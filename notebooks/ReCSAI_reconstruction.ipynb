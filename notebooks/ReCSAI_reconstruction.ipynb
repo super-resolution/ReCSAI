{
 "cells": [
  {
   "cell_type": "markdown",
   "metadata": {
    "id": "OvlB75vA8zgH",
    "pycharm": {
     "name": "#%% md\n"
    }
   },
   "source": [
    "# Install dependencies here"
   ]
  },
  {
   "cell_type": "markdown",
   "metadata": {
    "id": "7tlNyTNChpSX",
    "pycharm": {
     "name": "#%% md\n"
    }
   },
   "source": [
    "Install the fitting `tensorflow-gpu` version. Clone and install `tf-wavelets`. The wavelet database is used as initializer for the prefiltering network. Restart kernel to complete installation."
   ]
  },
  {
   "cell_type": "code",
   "execution_count": null,
   "metadata": {
    "colab": {
     "base_uri": "https://localhost:8080/"
    },
    "id": "qluGRSuceS-l",
    "outputId": "1e163d78-0e13-4152-cb37-08a8d988a17a",
    "pycharm": {
     "name": "#%%\n"
    }
   },
   "outputs": [
    {
     "name": "stdout",
     "output_type": "stream",
     "text": [
      "Cloning into 'tf-wavelets'...\n",
      "remote: Enumerating objects: 321, done.\u001B[K\n",
      "remote: Counting objects: 100% (21/21), done.\u001B[K\n",
      "remote: Compressing objects: 100% (12/12), done.\u001B[K\n",
      "remote: Total 321 (delta 9), reused 21 (delta 9), pack-reused 300\u001B[K\n",
      "Receiving objects: 100% (321/321), 5.71 MiB | 12.01 MiB/s, done.\n",
      "Resolving deltas: 100% (157/157), done.\n",
      "running install\n",
      "running bdist_egg\n",
      "running egg_info\n",
      "creating tfwavelets.egg-info\n",
      "writing tfwavelets.egg-info/PKG-INFO\n",
      "writing dependency_links to tfwavelets.egg-info/dependency_links.txt\n",
      "writing requirements to tfwavelets.egg-info/requires.txt\n",
      "writing top-level names to tfwavelets.egg-info/top_level.txt\n",
      "writing manifest file 'tfwavelets.egg-info/SOURCES.txt'\n",
      "adding license file 'LICENSE'\n",
      "writing manifest file 'tfwavelets.egg-info/SOURCES.txt'\n",
      "installing library code to build/bdist.linux-x86_64/egg\n",
      "running install_lib\n",
      "running build_py\n",
      "creating build\n",
      "creating build/lib\n",
      "creating build/lib/tfwavelets\n",
      "copying tfwavelets/__init__.py -> build/lib/tfwavelets\n",
      "copying tfwavelets/utils.py -> build/lib/tfwavelets\n",
      "copying tfwavelets/nodes.py -> build/lib/tfwavelets\n",
      "copying tfwavelets/wrappers.py -> build/lib/tfwavelets\n",
      "copying tfwavelets/dwtcoeffs.py -> build/lib/tfwavelets\n",
      "creating build/bdist.linux-x86_64\n",
      "creating build/bdist.linux-x86_64/egg\n",
      "creating build/bdist.linux-x86_64/egg/tfwavelets\n",
      "copying build/lib/tfwavelets/__init__.py -> build/bdist.linux-x86_64/egg/tfwavelets\n",
      "copying build/lib/tfwavelets/utils.py -> build/bdist.linux-x86_64/egg/tfwavelets\n",
      "copying build/lib/tfwavelets/nodes.py -> build/bdist.linux-x86_64/egg/tfwavelets\n",
      "copying build/lib/tfwavelets/wrappers.py -> build/bdist.linux-x86_64/egg/tfwavelets\n",
      "copying build/lib/tfwavelets/dwtcoeffs.py -> build/bdist.linux-x86_64/egg/tfwavelets\n",
      "byte-compiling build/bdist.linux-x86_64/egg/tfwavelets/__init__.py to __init__.cpython-37.pyc\n",
      "byte-compiling build/bdist.linux-x86_64/egg/tfwavelets/utils.py to utils.cpython-37.pyc\n",
      "byte-compiling build/bdist.linux-x86_64/egg/tfwavelets/nodes.py to nodes.cpython-37.pyc\n",
      "byte-compiling build/bdist.linux-x86_64/egg/tfwavelets/wrappers.py to wrappers.cpython-37.pyc\n",
      "byte-compiling build/bdist.linux-x86_64/egg/tfwavelets/dwtcoeffs.py to dwtcoeffs.cpython-37.pyc\n",
      "creating build/bdist.linux-x86_64/egg/EGG-INFO\n",
      "copying tfwavelets.egg-info/PKG-INFO -> build/bdist.linux-x86_64/egg/EGG-INFO\n",
      "copying tfwavelets.egg-info/SOURCES.txt -> build/bdist.linux-x86_64/egg/EGG-INFO\n",
      "copying tfwavelets.egg-info/dependency_links.txt -> build/bdist.linux-x86_64/egg/EGG-INFO\n",
      "copying tfwavelets.egg-info/not-zip-safe -> build/bdist.linux-x86_64/egg/EGG-INFO\n",
      "copying tfwavelets.egg-info/requires.txt -> build/bdist.linux-x86_64/egg/EGG-INFO\n",
      "copying tfwavelets.egg-info/top_level.txt -> build/bdist.linux-x86_64/egg/EGG-INFO\n",
      "creating dist\n",
      "creating 'dist/tfwavelets-0.1-py3.7.egg' and adding 'build/bdist.linux-x86_64/egg' to it\n",
      "removing 'build/bdist.linux-x86_64/egg' (and everything under it)\n",
      "Processing tfwavelets-0.1-py3.7.egg\n",
      "creating /usr/local/lib/python3.7/dist-packages/tfwavelets-0.1-py3.7.egg\n",
      "Extracting tfwavelets-0.1-py3.7.egg to /usr/local/lib/python3.7/dist-packages\n",
      "Adding tfwavelets 0.1 to easy-install.pth file\n",
      "\n",
      "Installed /usr/local/lib/python3.7/dist-packages/tfwavelets-0.1-py3.7.egg\n",
      "Processing dependencies for tfwavelets==0.1\n",
      "Searching for tf-estimator-nightly==2.8.0.dev2021122109\n",
      "Reading https://pypi.org/simple/tf-estimator-nightly/\n",
      "Downloading https://files.pythonhosted.org/packages/a7/f1/f89e097f377b163856076f167baf149b010df3bbf425d2c06276048e2051/tf_estimator_nightly-2.8.0.dev2021122109-py2.py3-none-any.whl#sha256=0065a04e396b2890bd19761fc1de7559ceafeba12839f8db2c7e7473afaaf612\n",
      "Best match: tf-estimator-nightly 2.8.0.dev2021122109\n",
      "Processing tf_estimator_nightly-2.8.0.dev2021122109-py2.py3-none-any.whl\n",
      "Installing tf_estimator_nightly-2.8.0.dev2021122109-py2.py3-none-any.whl to /usr/local/lib/python3.7/dist-packages\n",
      "Adding tf-estimator-nightly 2.8.0.dev2021122109 to easy-install.pth file\n",
      "\n",
      "Installed /usr/local/lib/python3.7/dist-packages/tf_estimator_nightly-2.8.0.dev2021122109-py3.7.egg\n",
      "Searching for numpy==1.21.6\n",
      "Best match: numpy 1.21.6\n",
      "Adding numpy 1.21.6 to easy-install.pth file\n",
      "Installing f2py script to /usr/local/bin\n",
      "Installing f2py3 script to /usr/local/bin\n",
      "Installing f2py3.7 script to /usr/local/bin\n",
      "\n",
      "Using /usr/local/lib/python3.7/dist-packages\n",
      "Searching for tensorflow==2.8.0\n",
      "Best match: tensorflow 2.8.0\n",
      "Adding tensorflow 2.8.0 to easy-install.pth file\n",
      "Installing estimator_ckpt_converter script to /usr/local/bin\n",
      "Installing import_pb_to_tensorboard script to /usr/local/bin\n",
      "Installing saved_model_cli script to /usr/local/bin\n",
      "Installing tensorboard script to /usr/local/bin\n",
      "Installing tf_upgrade_v2 script to /usr/local/bin\n",
      "Installing tflite_convert script to /usr/local/bin\n",
      "Installing toco script to /usr/local/bin\n",
      "Installing toco_from_protos script to /usr/local/bin\n",
      "\n",
      "Using /usr/local/lib/python3.7/dist-packages\n",
      "Searching for google-pasta==0.2.0\n",
      "Best match: google-pasta 0.2.0\n",
      "Adding google-pasta 0.2.0 to easy-install.pth file\n",
      "\n",
      "Using /usr/local/lib/python3.7/dist-packages\n",
      "Searching for tensorboard==2.8.0\n",
      "Best match: tensorboard 2.8.0\n",
      "Adding tensorboard 2.8.0 to easy-install.pth file\n",
      "Installing tensorboard script to /usr/local/bin\n",
      "\n",
      "Using /usr/local/lib/python3.7/dist-packages\n",
      "Searching for libclang==14.0.1\n",
      "Best match: libclang 14.0.1\n",
      "Adding libclang 14.0.1 to easy-install.pth file\n",
      "\n",
      "Using /usr/local/lib/python3.7/dist-packages\n",
      "Searching for tensorflow-io-gcs-filesystem==0.25.0\n",
      "Best match: tensorflow-io-gcs-filesystem 0.25.0\n",
      "Adding tensorflow-io-gcs-filesystem 0.25.0 to easy-install.pth file\n",
      "\n",
      "Using /usr/local/lib/python3.7/dist-packages\n",
      "Searching for grpcio==1.44.0\n",
      "Best match: grpcio 1.44.0\n",
      "Adding grpcio 1.44.0 to easy-install.pth file\n",
      "\n",
      "Using /usr/local/lib/python3.7/dist-packages\n",
      "Searching for keras==2.8.0\n",
      "Best match: keras 2.8.0\n",
      "Adding keras 2.8.0 to easy-install.pth file\n",
      "\n",
      "Using /usr/local/lib/python3.7/dist-packages\n",
      "Searching for wrapt==1.14.0\n",
      "Best match: wrapt 1.14.0\n",
      "Adding wrapt 1.14.0 to easy-install.pth file\n",
      "\n",
      "Using /usr/local/lib/python3.7/dist-packages\n",
      "Searching for six==1.15.0\n",
      "Best match: six 1.15.0\n",
      "Adding six 1.15.0 to easy-install.pth file\n",
      "\n",
      "Using /usr/local/lib/python3.7/dist-packages\n",
      "Searching for absl-py==1.0.0\n",
      "Best match: absl-py 1.0.0\n",
      "Adding absl-py 1.0.0 to easy-install.pth file\n",
      "\n",
      "Using /usr/local/lib/python3.7/dist-packages\n",
      "Searching for astunparse==1.6.3\n",
      "Best match: astunparse 1.6.3\n",
      "Adding astunparse 1.6.3 to easy-install.pth file\n",
      "\n",
      "Using /usr/local/lib/python3.7/dist-packages\n",
      "Searching for termcolor==1.1.0\n",
      "Best match: termcolor 1.1.0\n",
      "Adding termcolor 1.1.0 to easy-install.pth file\n",
      "\n",
      "Using /usr/local/lib/python3.7/dist-packages\n",
      "Searching for gast==0.5.3\n",
      "Best match: gast 0.5.3\n",
      "Adding gast 0.5.3 to easy-install.pth file\n",
      "\n",
      "Using /usr/local/lib/python3.7/dist-packages\n",
      "Searching for setuptools==57.4.0\n",
      "Best match: setuptools 57.4.0\n",
      "Adding setuptools 57.4.0 to easy-install.pth file\n",
      "\n",
      "Using /usr/local/lib/python3.7/dist-packages\n",
      "Searching for opt-einsum==3.3.0\n",
      "Best match: opt-einsum 3.3.0\n",
      "Adding opt-einsum 3.3.0 to easy-install.pth file\n",
      "\n",
      "Using /usr/local/lib/python3.7/dist-packages\n",
      "Searching for h5py==3.1.0\n",
      "Best match: h5py 3.1.0\n",
      "Adding h5py 3.1.0 to easy-install.pth file\n",
      "\n",
      "Using /usr/local/lib/python3.7/dist-packages\n",
      "Searching for protobuf==3.17.3\n",
      "Best match: protobuf 3.17.3\n",
      "Adding protobuf 3.17.3 to easy-install.pth file\n",
      "\n",
      "Using /usr/local/lib/python3.7/dist-packages\n",
      "Searching for Keras-Preprocessing==1.1.2\n",
      "Best match: Keras-Preprocessing 1.1.2\n",
      "Adding Keras-Preprocessing 1.1.2 to easy-install.pth file\n",
      "\n",
      "Using /usr/local/lib/python3.7/dist-packages\n",
      "Searching for flatbuffers==2.0\n",
      "Best match: flatbuffers 2.0\n",
      "Adding flatbuffers 2.0 to easy-install.pth file\n",
      "\n",
      "Using /usr/local/lib/python3.7/dist-packages\n",
      "Searching for typing-extensions==4.2.0\n",
      "Best match: typing-extensions 4.2.0\n",
      "Adding typing-extensions 4.2.0 to easy-install.pth file\n",
      "\n",
      "Using /usr/local/lib/python3.7/dist-packages\n",
      "Searching for Markdown==3.3.6\n",
      "Best match: Markdown 3.3.6\n",
      "Adding Markdown 3.3.6 to easy-install.pth file\n",
      "Installing markdown_py script to /usr/local/bin\n",
      "\n",
      "Using /usr/local/lib/python3.7/dist-packages\n",
      "Searching for Werkzeug==1.0.1\n",
      "Best match: Werkzeug 1.0.1\n",
      "Adding Werkzeug 1.0.1 to easy-install.pth file\n",
      "\n",
      "Using /usr/local/lib/python3.7/dist-packages\n",
      "Searching for tensorboard-data-server==0.6.1\n",
      "Best match: tensorboard-data-server 0.6.1\n",
      "Adding tensorboard-data-server 0.6.1 to easy-install.pth file\n",
      "\n",
      "Using /usr/local/lib/python3.7/dist-packages\n",
      "Searching for google-auth==1.35.0\n",
      "Best match: google-auth 1.35.0\n",
      "Adding google-auth 1.35.0 to easy-install.pth file\n",
      "\n",
      "Using /usr/local/lib/python3.7/dist-packages\n",
      "Searching for tensorboard-plugin-wit==1.8.1\n",
      "Best match: tensorboard-plugin-wit 1.8.1\n",
      "Adding tensorboard-plugin-wit 1.8.1 to easy-install.pth file\n",
      "\n",
      "Using /usr/local/lib/python3.7/dist-packages\n",
      "Searching for requests==2.23.0\n",
      "Best match: requests 2.23.0\n",
      "Adding requests 2.23.0 to easy-install.pth file\n",
      "\n",
      "Using /usr/local/lib/python3.7/dist-packages\n",
      "Searching for wheel==0.37.1\n",
      "Best match: wheel 0.37.1\n",
      "Adding wheel 0.37.1 to easy-install.pth file\n",
      "Installing wheel script to /usr/local/bin\n",
      "\n",
      "Using /usr/local/lib/python3.7/dist-packages\n",
      "Searching for google-auth-oauthlib==0.4.6\n",
      "Best match: google-auth-oauthlib 0.4.6\n",
      "Adding google-auth-oauthlib 0.4.6 to easy-install.pth file\n",
      "Installing google-oauthlib-tool script to /usr/local/bin\n",
      "\n",
      "Using /usr/local/lib/python3.7/dist-packages\n",
      "Searching for cached-property==1.5.2\n",
      "Best match: cached-property 1.5.2\n",
      "Adding cached-property 1.5.2 to easy-install.pth file\n",
      "\n",
      "Using /usr/local/lib/python3.7/dist-packages\n",
      "Searching for importlib-metadata==4.11.3\n",
      "Best match: importlib-metadata 4.11.3\n",
      "Adding importlib-metadata 4.11.3 to easy-install.pth file\n",
      "\n",
      "Using /usr/local/lib/python3.7/dist-packages\n",
      "Searching for pyasn1-modules==0.2.8\n",
      "Best match: pyasn1-modules 0.2.8\n",
      "Adding pyasn1-modules 0.2.8 to easy-install.pth file\n",
      "\n",
      "Using /usr/local/lib/python3.7/dist-packages\n",
      "Searching for cachetools==4.2.4\n",
      "Best match: cachetools 4.2.4\n",
      "Adding cachetools 4.2.4 to easy-install.pth file\n",
      "\n",
      "Using /usr/local/lib/python3.7/dist-packages\n",
      "Searching for rsa==4.8\n",
      "Best match: rsa 4.8\n",
      "Adding rsa 4.8 to easy-install.pth file\n",
      "Installing pyrsa-decrypt script to /usr/local/bin\n",
      "Installing pyrsa-encrypt script to /usr/local/bin\n",
      "Installing pyrsa-keygen script to /usr/local/bin\n",
      "Installing pyrsa-priv2pub script to /usr/local/bin\n",
      "Installing pyrsa-sign script to /usr/local/bin\n",
      "Installing pyrsa-verify script to /usr/local/bin\n",
      "\n",
      "Using /usr/local/lib/python3.7/dist-packages\n",
      "Searching for certifi==2021.10.8\n",
      "Best match: certifi 2021.10.8\n",
      "Adding certifi 2021.10.8 to easy-install.pth file\n",
      "\n",
      "Using /usr/local/lib/python3.7/dist-packages\n",
      "Searching for urllib3==1.24.3\n",
      "Best match: urllib3 1.24.3\n",
      "Adding urllib3 1.24.3 to easy-install.pth file\n",
      "\n",
      "Using /usr/local/lib/python3.7/dist-packages\n",
      "Searching for idna==2.10\n",
      "Best match: idna 2.10\n",
      "Adding idna 2.10 to easy-install.pth file\n",
      "\n",
      "Using /usr/local/lib/python3.7/dist-packages\n",
      "Searching for chardet==3.0.4\n",
      "Best match: chardet 3.0.4\n",
      "Adding chardet 3.0.4 to easy-install.pth file\n",
      "Installing chardetect script to /usr/local/bin\n",
      "\n",
      "Using /usr/local/lib/python3.7/dist-packages\n",
      "Searching for requests-oauthlib==1.3.1\n",
      "Best match: requests-oauthlib 1.3.1\n",
      "Adding requests-oauthlib 1.3.1 to easy-install.pth file\n",
      "\n",
      "Using /usr/local/lib/python3.7/dist-packages\n",
      "Searching for zipp==3.8.0\n",
      "Best match: zipp 3.8.0\n",
      "Adding zipp 3.8.0 to easy-install.pth file\n",
      "\n",
      "Using /usr/local/lib/python3.7/dist-packages\n",
      "Searching for pyasn1==0.4.8\n",
      "Best match: pyasn1 0.4.8\n",
      "Adding pyasn1 0.4.8 to easy-install.pth file\n",
      "\n",
      "Using /usr/local/lib/python3.7/dist-packages\n",
      "Searching for oauthlib==3.2.0\n",
      "Best match: oauthlib 3.2.0\n",
      "Adding oauthlib 3.2.0 to easy-install.pth file\n",
      "\n",
      "Using /usr/local/lib/python3.7/dist-packages\n",
      "Finished processing dependencies for tfwavelets==0.1\n",
      "Collecting tensorflow_addons\n",
      "  Downloading tensorflow_addons-0.16.1-cp37-cp37m-manylinux_2_12_x86_64.manylinux2010_x86_64.whl (1.1 MB)\n",
      "\u001B[K     |████████████████████████████████| 1.1 MB 8.0 MB/s \n",
      "\u001B[?25hRequirement already satisfied: typeguard>=2.7 in /usr/local/lib/python3.7/dist-packages (from tensorflow_addons) (2.7.1)\n",
      "Installing collected packages: tensorflow-addons\n",
      "Successfully installed tensorflow-addons-0.16.1\n"
     ]
    }
   ],
   "source": [
    "#!pip install tensorflow-gpu==2.6.0\n",
    "!git clone https://github.com/UiO-CS/tf-wavelets\n",
    "!(cd tf-wavelets && python setup.py install)\n",
    "!pip install tensorflow_addons\n",
    "import os\n",
    "\n",
    "os.kill(os.getpid(), 9)"
   ]
  },
  {
   "cell_type": "markdown",
   "metadata": {
    "id": "3QqSWNfehmdq",
    "pycharm": {
     "name": "#%% md\n"
    }
   },
   "source": []
  },
  {
   "cell_type": "markdown",
   "metadata": {
    "id": "9Fsp_Lw4eYgj",
    "pycharm": {
     "name": "#%% md\n"
    }
   },
   "source": [
    "# Pull and update AI here"
   ]
  },
  {
   "cell_type": "markdown",
   "metadata": {
    "id": "jkUZ-MM7iVdU",
    "pycharm": {
     "name": "#%% md\n"
    }
   },
   "source": [
    "Get `ReCSAI` from Github.\n",
    "\n"
   ]
  },
  {
   "cell_type": "code",
   "execution_count": null,
   "metadata": {
    "colab": {
     "base_uri": "https://localhost:8080/"
    },
    "id": "cWCzfQ2EuaSO",
    "outputId": "f9108314-47be-488b-e799-6d43d1ba3bd6",
    "pycharm": {
     "name": "#%%\n"
    }
   },
   "outputs": [
    {
     "name": "stdout",
     "output_type": "stream",
     "text": [
      "Cloning into 'CSrecon'...\n",
      "remote: Enumerating objects: 2320, done.\u001B[K\n",
      "remote: Counting objects: 100% (13/13), done.\u001B[K\n",
      "remote: Compressing objects: 100% (10/10), done.\u001B[K\n",
      "remote: Total 2320 (delta 4), reused 7 (delta 3), pack-reused 2307\u001B[K\n",
      "Receiving objects: 100% (2320/2320), 460.72 MiB | 24.09 MiB/s, done.\n",
      "Resolving deltas: 100% (1507/1507), done.\n",
      "Checking out files: 100% (1605/1605), done.\n"
     ]
    }
   ],
   "source": [
    "!git clone https://github.com/super-resolution/ReCSAI"
   ]
  },
  {
   "cell_type": "markdown",
   "metadata": {
    "id": "IhD15ROQifXl",
    "pycharm": {
     "name": "#%% md\n"
    }
   },
   "source": [
    "Change the working directory to the cloned folder and check if everything is updated."
   ]
  },
  {
   "cell_type": "code",
   "execution_count": null,
   "metadata": {
    "colab": {
     "base_uri": "https://localhost:8080/"
    },
    "id": "ekvzrRwVyFPp",
    "outputId": "fdf64ac2-eb0a-4f84-b0ca-cecc0b133c49",
    "pycharm": {
     "name": "#%%\n"
    }
   },
   "outputs": [
    {
     "name": "stdout",
     "output_type": "stream",
     "text": [
      "/content/CSrecon\n",
      "From https://github.com/super-resolution/CSrecon\n",
      " * branch            HEAD       -> FETCH_HEAD\n",
      "Already up to date.\n"
     ]
    }
   ],
   "source": [
    "%cd ReCSAI"
   ]
  },
  {
   "cell_type": "markdown",
   "metadata": {
    "id": "n5DBoC_D9EP2",
    "pycharm": {
     "name": "#%% md\n"
    }
   },
   "source": [
    "Import the required packages. \n",
    "* `train_cs_net` contains pretrained instances of `NetworkFacade`. A helper class to handle training and prediction of the networks.\n",
    "* `plot_emitter_set` handles different kinds of visualizations.\n",
    "* `Emitter` is a helper class to handle SMLM data."
   ]
  },
  {
   "cell_type": "code",
   "execution_count": null,
   "metadata": {
    "id": "4SxcraLDukAE",
    "pycharm": {
     "name": "#%%\n"
    }
   },
   "outputs": [],
   "source": [
    "#!(dir)\n",
    "import tensorflow as tf\n",
    "#pretrained networks \n",
    "from src.trainings.train_cs_net import ResUNetFacade\n",
    "from src.visualization import plot_emitter_set\n",
    "from src.emitters import Emitter\n",
    "\n",
    "\n"
   ]
  },
  {
   "cell_type": "markdown",
   "metadata": {
    "id": "T4X0lse4IIS_",
    "pycharm": {
     "name": "#%% md\n"
    }
   },
   "source": [
    "# Using the example dataset\n",
    "Skip this section if you'll upload your own files."
   ]
  },
  {
   "cell_type": "code",
   "execution_count": null,
   "metadata": {
    "id": "ZtA9q1piIa7I",
    "pycharm": {
     "name": "#%%\n"
    }
   },
   "outputs": [],
   "source": [
    "import gdown\n",
    "url = \"https://drive.google.com/uc?export=download&id=1xlh5ELa5QifMV_KY1d0IlxUivx1alM9y\"\n",
    "path = \"./example_data.tif\"\n",
    "gdown.download(url, path, quiet=False)"
   ]
  },
  {
   "cell_type": "markdown",
   "metadata": {
    "id": "USNtrkE09GUb",
    "pycharm": {
     "name": "#%% md\n"
    }
   },
   "source": [
    "# Upload your file as tif\n",
    "Skip this section if you work with the example dataset"
   ]
  },
  {
   "cell_type": "code",
   "execution_count": null,
   "metadata": {
    "colab": {
     "base_uri": "https://localhost:8080/",
     "height": 94,
     "resources": {
      "http://localhost:8080/nbextensions/google.colab/files.js": {
       "data": "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",
       "headers": [
        [
         "content-type",
         "application/javascript"
        ]
       ],
       "ok": true,
       "status": 200,
       "status_text": "OK"
      }
     }
    },
    "id": "hyUMUkFH5xFT",
    "outputId": "9fd1a2c6-1d14-46ca-db5c-d0805ab7ded5",
    "pycharm": {
     "name": "#%%\n"
    }
   },
   "outputs": [
    {
     "data": {
      "text/html": [
       "\n",
       "     <input type=\"file\" id=\"files-58675d95-946f-4c7c-867c-25f85805b53b\" name=\"files[]\" multiple disabled\n",
       "        style=\"border:none\" />\n",
       "     <output id=\"result-58675d95-946f-4c7c-867c-25f85805b53b\">\n",
       "      Upload widget is only available when the cell has been executed in the\n",
       "      current browser session. Please rerun this cell to enable.\n",
       "      </output>\n",
       "      <script src=\"/nbextensions/google.colab/files.js\"></script> "
      ],
      "text/plain": [
       "<IPython.core.display.HTML object>"
      ]
     },
     "metadata": {},
     "output_type": "display_data"
    },
    {
     "name": "stdout",
     "output_type": "stream",
     "text": [
      "Saving Cy5_MT_100us_101nm_45px_Framesfrq2.4Hz_Linefrq108.7Hz_5kW_7500Frames_kept stack.tif to Cy5_MT_100us_101nm_45px_Framesfrq2.4Hz_Linefrq108.7Hz_5kW_7500Frames_kept stack.tif\n"
     ]
    }
   ],
   "source": [
    "from google.colab import files\n",
    "uploaded = files.upload()"
   ]
  },
  {
   "cell_type": "code",
   "execution_count": null,
   "metadata": {
    "id": "QgE0UnXeK3I7",
    "pycharm": {
     "name": "#%%\n"
    }
   },
   "outputs": [],
   "source": [
    "with open(\"image_data.tif\", 'wb') as f:\n",
    "    f.write(uploaded[list(uploaded.keys())[0]])\n",
    "path = \"./image_data.tif\""
   ]
  },
  {
   "cell_type": "markdown",
   "metadata": {
    "id": "lx2Y3xwL9LQk",
    "pycharm": {
     "name": "#%% md\n"
    }
   },
   "source": [
    "# Load training checkpoints"
   ]
  },
  {
   "cell_type": "markdown",
   "metadata": {
    "id": "lhlQeiUWwbVu",
    "pycharm": {
     "name": "#%% md\n"
    }
   },
   "source": [
    "Pick one of the following network architectures for fitting. The latest checkpoint will be loaded automatically\n",
    "* `ResUNetFacade`: CS via algorithm unrolling. Fast and accurate (training provided)\n",
    "* `CSInceptionNetFacade`: CS algorithm integrated in inception architecture\n",
    "* `CSUNetFacade`: CS algorithm integrated in U-net architecture\n",
    "* `CNNNetFacade`: CS algorithm used as prior for a CNN"
   ]
  },
  {
   "cell_type": "code",
   "execution_count": null,
   "metadata": {
    "colab": {
     "base_uri": "https://localhost:8080/"
    },
    "id": "zNOb7AzF6qG1",
    "outputId": "0440d98d-8e52-42b5-f8bf-0bec51483fc9",
    "pycharm": {
     "name": "#%%\n"
    }
   },
   "outputs": [
    {
     "name": "stdout",
     "output_type": "stream",
     "text": [
      "(None, 16, 8, 1) (None, 16, 8, 1)\n",
      "(None, 16, 8, 1) (None, 16, 8, 1)\n",
      "(None, 32, 16, 1) (None, 32, 16, 1)\n",
      "(None, 32, 16, 1) (None, 32, 16, 1)\n",
      "(None, 64, 32, 1) (None, 64, 32, 1)\n",
      "(None, 64, 32, 1) (None, 64, 32, 1)\n",
      "(None, 128, 64, 1) (None, 128, 64, 1)\n",
      "(None, 128, 64, 1) (None, 128, 64, 1)\n",
      "initializing metrics from scratch\n",
      "Initializing from scratch.\n"
     ]
    }
   ],
   "source": [
    "facade = ResUNetFacade()"
   ]
  },
  {
   "cell_type": "markdown",
   "metadata": {
    "id": "xeyEXcwm9OpN",
    "pycharm": {
     "name": "#%% md\n"
    }
   },
   "source": [
    "# Run AI and plot image"
   ]
  },
  {
   "cell_type": "markdown",
   "metadata": {
    "id": "BEk45dxhx0K0",
    "pycharm": {
     "name": "#%% md\n"
    }
   },
   "source": [
    "Feed your parameters to the current network instance. \n",
    "* `facade.sigma`: the expected standard deviation of your emitters Point Spread Function (FWHM/2.3548) [px*100]. \n",
    "* `facade.threshold`: minimal probability of a feature space pixel to be accepted as localization. \n",
    "\n",
    "Results of `facade.predict` are by default returned as emitter sets with the attributes: \n",
    "* `emitters.xyz` coordinate positions of the emitters in $nm$  \n",
    "* `emitters.photons` relative intensity of the emitters $\\in [0,1]$\n",
    "* `emitters.frames` corresponding frame to each emitter\n",
    "* `emitters.p` feature space probability of the emitter\n",
    "* `emitters.sigxsigy` uncertainty in $x$ and $y$ direction in $px$\n",
    "\n",
    "Giving `facade.predict` the kwarg `raw=True` the feature space is returned as numpy array.\n",
    "\n",
    "`plot_emitter_set` builds a visualization of the data by rendering the point cloud of emitters weighted by their intensity."
   ]
  },
  {
   "cell_type": "code",
   "execution_count": null,
   "metadata": {
    "colab": {
     "background_save": true,
     "base_uri": "https://localhost:8080/"
    },
    "id": "j6zaRBylyEpW",
    "outputId": "0f9d4907-adb6-4341-b1e0-c8fa36021516",
    "pycharm": {
     "name": "#%%\n"
    }
   },
   "outputs": [
    {
     "name": "stderr",
     "output_type": "stream",
     "text": [
      "<tifffile.TiffPage 0 @8> imagej_metadata failed with ValueError: The truth value of an array with more than one element is ambiguous. Use a.any() or a.all()\n"
     ]
    },
    {
     "name": "stdout",
     "output_type": "stream",
     "text": [
      "41\n",
      "4\n",
      "(None, 16, 8, 1) (None, 16, 8, 1)\n",
      "(None, 16, 8, 1) (None, 16, 8, 1)\n",
      "(None, 32, 16, 1) (None, 32, 16, 1)\n",
      "(None, 32, 16, 1) (None, 32, 16, 1)\n",
      "(None, 64, 32, 1) (None, 64, 32, 1)\n",
      "(None, 64, 32, 1) (None, 64, 32, 1)\n",
      "(None, 128, 64, 1) (None, 128, 64, 1)\n",
      "(None, 128, 64, 1) (None, 128, 64, 1)\n",
      "51750\n",
      "1\n",
      "60882\n",
      "2\n",
      "51238\n",
      "3\n",
      "37586\n",
      "4\n"
     ]
    },
    {
     "data": {
      "image/png": "[encoded data removed]",
      "text/plain": [
       "<Figure size 432x288 with 1 Axes>"
      ]
     },
     "metadata": {},
     "output_type": "display_data"
    }
   ],
   "source": [
    "facade.sigma = 180\n",
    "facade.wavelet_thresh = 0.04\n",
    "facade.threshold = 0.15\n",
    "emitters = facade.predict(path)\n",
    "\n",
    "plot_emitter_set(emitters)"
   ]
  },
  {
   "cell_type": "markdown",
   "metadata": {
    "id": "3DJpIUPcQjNX",
    "pycharm": {
     "name": "#%% md\n"
    }
   },
   "source": [
    "# Use localisation based drift correct (https://github.com/qnano/drift-estimation)"
   ]
  },
  {
   "cell_type": "code",
   "execution_count": null,
   "metadata": {
    "colab": {
     "base_uri": "https://localhost:8080/",
     "height": 312
    },
    "id": "IQt8pn69ebMg",
    "outputId": "b13a5a78-38f5-4f9d-e52a-99fcc78356a6",
    "pycharm": {
     "name": "#%%\n"
    }
   },
   "outputs": [
    {
     "ename": "OSError",
     "evalue": "ignored",
     "output_type": "error",
     "traceback": [
      "\u001B[0;31m---------------------------------------------------------------------------\u001B[0m",
      "\u001B[0;31mOSError\u001B[0m                                   Traceback (most recent call last)",
      "\u001B[0;32m<ipython-input-13-c337623094b3>\u001B[0m in \u001B[0;36m<module>\u001B[0;34m()\u001B[0m\n\u001B[0;32m----> 1\u001B[0;31m \u001B[0memitters\u001B[0m\u001B[0;34m.\u001B[0m\u001B[0muse_dme_drift_correct\u001B[0m\u001B[0;34m(\u001B[0m\u001B[0;34m)\u001B[0m\u001B[0;34m\u001B[0m\u001B[0;34m\u001B[0m\u001B[0m\n\u001B[0m",
      "\u001B[0;32m/content/CSrecon/src/emitters.py\u001B[0m in \u001B[0;36muse_dme_drift_correct\u001B[0;34m(self)\u001B[0m\n\u001B[1;32m    196\u001B[0m                                           \u001B[0mcoarseSigma\u001B[0m\u001B[0;34m=\u001B[0m\u001B[0;34m[\u001B[0m\u001B[0;36m0.2\u001B[0m\u001B[0;34m,\u001B[0m \u001B[0;36m0.2\u001B[0m\u001B[0;34m,\u001B[0m \u001B[0;36m0.2\u001B[0m\u001B[0;34m]\u001B[0m\u001B[0;34m,\u001B[0m  \u001B[0;31m# run a coarse drift correction with large Z sigma\u001B[0m\u001B[0;34m\u001B[0m\u001B[0;34m\u001B[0m\u001B[0m\n\u001B[1;32m    197\u001B[0m                                           \u001B[0museCuda\u001B[0m\u001B[0;34m=\u001B[0m\u001B[0muse_cuda\u001B[0m\u001B[0;34m,\u001B[0m\u001B[0;34m\u001B[0m\u001B[0;34m\u001B[0m\u001B[0m\n\u001B[0;32m--> 198\u001B[0;31m                                           useDebugLibrary=False)\n\u001B[0m\u001B[1;32m    199\u001B[0m         \u001B[0mself\u001B[0m\u001B[0;34m.\u001B[0m\u001B[0mapply_drift\u001B[0m\u001B[0;34m(\u001B[0m\u001B[0mestimated_drift\u001B[0m\u001B[0;34m[\u001B[0m\u001B[0;34m:\u001B[0m\u001B[0;34m,\u001B[0m\u001B[0;36m0\u001B[0m\u001B[0;34m:\u001B[0m\u001B[0;36m2\u001B[0m\u001B[0;34m]\u001B[0m\u001B[0;34m)\u001B[0m\u001B[0;34m\u001B[0m\u001B[0;34m\u001B[0m\u001B[0m\n\u001B[1;32m    200\u001B[0m \u001B[0;34m\u001B[0m\u001B[0m\n",
      "\u001B[0;32m/content/CSrecon/third_party/dme/dme.py\u001B[0m in \u001B[0;36mdme_estimate\u001B[0;34m(positions, framenum, crlb, framesperbin, imgshape, coarseFramesPerBin, coarseSigma, perSpotCRLB, useCuda, display, pixelsize, maxspots, initializeWithRCC, initialEstimate, rccZoom, estimatePrecision, maxNeighbors, maxIterations, coarseMaxIterations, useDebugLibrary, numframes, traces)\u001B[0m\n\u001B[1;32m     64\u001B[0m     \u001B[0minitial_drift\u001B[0m \u001B[0;34m=\u001B[0m \u001B[0mnp\u001B[0m\u001B[0;34m.\u001B[0m\u001B[0mzeros\u001B[0m\u001B[0;34m(\u001B[0m\u001B[0;34m(\u001B[0m\u001B[0mnumframes\u001B[0m\u001B[0;34m,\u001B[0m\u001B[0mndims\u001B[0m\u001B[0;34m)\u001B[0m\u001B[0;34m)\u001B[0m\u001B[0;34m\u001B[0m\u001B[0;34m\u001B[0m\u001B[0m\n\u001B[1;32m     65\u001B[0m \u001B[0;34m\u001B[0m\u001B[0m\n\u001B[0;32m---> 66\u001B[0;31m     \u001B[0;32mwith\u001B[0m \u001B[0mNativeAPI\u001B[0m\u001B[0;34m(\u001B[0m\u001B[0museCuda\u001B[0m\u001B[0;34m,\u001B[0m \u001B[0mdebugMode\u001B[0m\u001B[0;34m=\u001B[0m\u001B[0museDebugLibrary\u001B[0m\u001B[0;34m)\u001B[0m \u001B[0;32mas\u001B[0m \u001B[0mdll\u001B[0m\u001B[0;34m:\u001B[0m\u001B[0;34m\u001B[0m\u001B[0;34m\u001B[0m\u001B[0m\n\u001B[0m\u001B[1;32m     67\u001B[0m \u001B[0;34m\u001B[0m\u001B[0m\n\u001B[1;32m     68\u001B[0m         \u001B[0;32mif\u001B[0m \u001B[0minitialEstimate\u001B[0m \u001B[0;32mis\u001B[0m \u001B[0;32mnot\u001B[0m \u001B[0;32mNone\u001B[0m\u001B[0;34m:\u001B[0m\u001B[0;34m\u001B[0m\u001B[0;34m\u001B[0m\u001B[0m\n",
      "\u001B[0;32m/content/CSrecon/third_party/dme/native_api.py\u001B[0m in \u001B[0;36m__init__\u001B[0;34m(self, useCuda, debugMode)\u001B[0m\n\u001B[1;32m     47\u001B[0m         \u001B[0mos\u001B[0m\u001B[0;34m.\u001B[0m\u001B[0mchdir\u001B[0m\u001B[0;34m(\u001B[0m\u001B[0mos\u001B[0m\u001B[0;34m.\u001B[0m\u001B[0mpath\u001B[0m\u001B[0;34m.\u001B[0m\u001B[0mdirname\u001B[0m\u001B[0;34m(\u001B[0m\u001B[0mabs_dllpath\u001B[0m\u001B[0;34m)\u001B[0m\u001B[0;34m)\u001B[0m\u001B[0;34m\u001B[0m\u001B[0;34m\u001B[0m\u001B[0m\n\u001B[1;32m     48\u001B[0m \u001B[0;34m\u001B[0m\u001B[0m\n\u001B[0;32m---> 49\u001B[0;31m         \u001B[0mlib\u001B[0m \u001B[0;34m=\u001B[0m \u001B[0mctypes\u001B[0m\u001B[0;34m.\u001B[0m\u001B[0mCDLL\u001B[0m\u001B[0;34m(\u001B[0m\u001B[0mabs_dllpath\u001B[0m\u001B[0;34m)\u001B[0m\u001B[0;34m\u001B[0m\u001B[0;34m\u001B[0m\u001B[0m\n\u001B[0m\u001B[1;32m     50\u001B[0m         \u001B[0mos\u001B[0m\u001B[0;34m.\u001B[0m\u001B[0mchdir\u001B[0m\u001B[0;34m(\u001B[0m\u001B[0mcurrentDir\u001B[0m\u001B[0;34m)\u001B[0m\u001B[0;34m\u001B[0m\u001B[0;34m\u001B[0m\u001B[0m\n\u001B[1;32m     51\u001B[0m \u001B[0;34m\u001B[0m\u001B[0m\n",
      "\u001B[0;32m/usr/lib/python3.7/ctypes/__init__.py\u001B[0m in \u001B[0;36m__init__\u001B[0;34m(self, name, mode, handle, use_errno, use_last_error)\u001B[0m\n\u001B[1;32m    362\u001B[0m \u001B[0;34m\u001B[0m\u001B[0m\n\u001B[1;32m    363\u001B[0m         \u001B[0;32mif\u001B[0m \u001B[0mhandle\u001B[0m \u001B[0;32mis\u001B[0m \u001B[0;32mNone\u001B[0m\u001B[0;34m:\u001B[0m\u001B[0;34m\u001B[0m\u001B[0;34m\u001B[0m\u001B[0m\n\u001B[0;32m--> 364\u001B[0;31m             \u001B[0mself\u001B[0m\u001B[0;34m.\u001B[0m\u001B[0m_handle\u001B[0m \u001B[0;34m=\u001B[0m \u001B[0m_dlopen\u001B[0m\u001B[0;34m(\u001B[0m\u001B[0mself\u001B[0m\u001B[0;34m.\u001B[0m\u001B[0m_name\u001B[0m\u001B[0;34m,\u001B[0m \u001B[0mmode\u001B[0m\u001B[0;34m)\u001B[0m\u001B[0;34m\u001B[0m\u001B[0;34m\u001B[0m\u001B[0m\n\u001B[0m\u001B[1;32m    365\u001B[0m         \u001B[0;32melse\u001B[0m\u001B[0;34m:\u001B[0m\u001B[0;34m\u001B[0m\u001B[0;34m\u001B[0m\u001B[0m\n\u001B[1;32m    366\u001B[0m             \u001B[0mself\u001B[0m\u001B[0;34m.\u001B[0m\u001B[0m_handle\u001B[0m \u001B[0;34m=\u001B[0m \u001B[0mhandle\u001B[0m\u001B[0;34m\u001B[0m\u001B[0;34m\u001B[0m\u001B[0m\n",
      "\u001B[0;31mOSError\u001B[0m: /content/CSrecon/third_party/bin/release/libdme_cuda.so: cannot open shared object file: No such file or directory"
     ]
    }
   ],
   "source": [
    "emitters.use_dme_drift_correct()"
   ]
  },
  {
   "cell_type": "markdown",
   "metadata": {
    "id": "ZNCzPFiQQwE0",
    "pycharm": {
     "name": "#%% md\n"
    }
   },
   "source": [
    "# Upload drift correct\n",
    "Upload a customn drift correct file as csv or json.\n",
    "csv expects an dataframe with [frame, drift_x, drift_y] for all collected frames.\n",
    "Json expects a RCC C-Spline parameterized drift correct i.e. as in Thunderstorm. "
   ]
  },
  {
   "cell_type": "code",
   "execution_count": null,
   "metadata": {
    "colab": {
     "base_uri": "https://localhost:8080/",
     "height": 246
    },
    "id": "vFzD38YmYs-j",
    "outputId": "56fb4fc8-3367-4097-8c64-472982fd3005",
    "pycharm": {
     "name": "#%%\n"
    }
   },
   "outputs": [
    {
     "ename": "NameError",
     "evalue": "ignored",
     "output_type": "error",
     "traceback": [
      "\u001B[0;31m---------------------------------------------------------------------------\u001B[0m",
      "\u001B[0;31mNameError\u001B[0m                                 Traceback (most recent call last)",
      "\u001B[0;32m<ipython-input-1-34eb81a8d09c>\u001B[0m in \u001B[0;36m<module>\u001B[0;34m()\u001B[0m\n\u001B[1;32m      1\u001B[0m \u001B[0;32mimport\u001B[0m \u001B[0mio\u001B[0m\u001B[0;34m\u001B[0m\u001B[0;34m\u001B[0m\u001B[0m\n\u001B[1;32m      2\u001B[0m \u001B[0;34m\u001B[0m\u001B[0m\n\u001B[0;32m----> 3\u001B[0;31m \u001B[0mdrift\u001B[0m \u001B[0;34m=\u001B[0m \u001B[0mfiles\u001B[0m\u001B[0;34m.\u001B[0m\u001B[0mupload\u001B[0m\u001B[0;34m(\u001B[0m\u001B[0;34m)\u001B[0m\u001B[0;34m\u001B[0m\u001B[0;34m\u001B[0m\u001B[0m\n\u001B[0m\u001B[1;32m      4\u001B[0m \u001B[0mdrift\u001B[0m\u001B[0;34m[\u001B[0m\u001B[0mlist\u001B[0m\u001B[0;34m(\u001B[0m\u001B[0mdrift\u001B[0m\u001B[0;34m.\u001B[0m\u001B[0mkeys\u001B[0m\u001B[0;34m(\u001B[0m\u001B[0;34m)\u001B[0m\u001B[0;34m)\u001B[0m\u001B[0;34m[\u001B[0m\u001B[0;36m0\u001B[0m\u001B[0;34m]\u001B[0m\u001B[0;34m]\u001B[0m\u001B[0;34m\u001B[0m\u001B[0;34m\u001B[0m\u001B[0m\n\u001B[1;32m      5\u001B[0m \u001B[0mdf2\u001B[0m \u001B[0;34m=\u001B[0m \u001B[0mpd\u001B[0m\u001B[0;34m.\u001B[0m\u001B[0mread_csv\u001B[0m\u001B[0;34m(\u001B[0m\u001B[0mio\u001B[0m\u001B[0;34m.\u001B[0m\u001B[0mBytesIO\u001B[0m\u001B[0;34m(\u001B[0m\u001B[0mdrift\u001B[0m\u001B[0;34m[\u001B[0m\u001B[0mlist\u001B[0m\u001B[0;34m(\u001B[0m\u001B[0mdrift\u001B[0m\u001B[0;34m.\u001B[0m\u001B[0mkeys\u001B[0m\u001B[0;34m(\u001B[0m\u001B[0;34m)\u001B[0m\u001B[0;34m)\u001B[0m\u001B[0;34m[\u001B[0m\u001B[0;36m0\u001B[0m\u001B[0;34m]\u001B[0m\u001B[0;34m]\u001B[0m\u001B[0;34m)\u001B[0m\u001B[0;34m)\u001B[0m\u001B[0;34m\u001B[0m\u001B[0;34m\u001B[0m\u001B[0m\n",
      "\u001B[0;31mNameError\u001B[0m: name 'files' is not defined"
     ]
    }
   ],
   "source": [
    "import io\n",
    "\n",
    "drift = files.upload()\n",
    "drift[list(drift.keys())[0]]\n",
    "df2 = pd.read_csv(io.BytesIO(drift[list(drift.keys())[0]]))\n",
    "emitters.apply_drift(df2)\n",
    "plot_emitter_set(emitters)"
   ]
  },
  {
   "cell_type": "markdown",
   "metadata": {
    "id": "lkjCBPkMFsGU",
    "pycharm": {
     "name": "#%% md\n"
    }
   },
   "source": [
    "# Filtering\n",
    "Filter your emitters to allow a range of certain parameters. Valid paramters are the emitterset properties described in Run AI and plot image.\n"
   ]
  },
  {
   "cell_type": "code",
   "execution_count": null,
   "metadata": {
    "colab": {
     "base_uri": "https://localhost:8080/",
     "height": 269
    },
    "id": "T6LRe6JzFwGo",
    "outputId": "6d39bd90-7840-454c-f036-1be026de75bc",
    "pycharm": {
     "name": "#%%\n"
    }
   },
   "outputs": [
    {
     "data": {
      "image/png": "[encoded data removed]",
      "text/plain": [
       "<Figure size 432x288 with 1 Axes>"
      ]
     },
     "metadata": {},
     "output_type": "display_data"
    }
   ],
   "source": [
    "emitter_filtered = emitters.filter(sig_x=0.5, sig_y=0.5, photons=0.1)\n",
    "plot_emitter_set(emitter_filtered)"
   ]
  }
 ],
 "metadata": {
  "accelerator": "GPU",
  "colab": {
   "collapsed_sections": [],
   "name": "ReCSAI_reconstruction.ipynb",
   "provenance": []
  },
  "kernelspec": {
   "display_name": "Python 3",
   "name": "python3"
  }
 },
 "nbformat": 4,
 "nbformat_minor": 0
}