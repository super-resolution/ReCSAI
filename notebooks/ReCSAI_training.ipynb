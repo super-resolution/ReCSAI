{
 "nbformat": 4,
 "nbformat_minor": 0,
 "metadata": {
  "colab": {
   "name": "ReCSAI_training.ipynb",
   "provenance": []
  },
  "kernelspec": {
   "name": "python3",
   "display_name": "Python 3"
  },
  "language_info": {
   "name": "python"
  },
  "accelerator": "GPU"
 },
 "cells": [
  {
   "cell_type": "markdown",
   "source": [
    "# Install dependencies here"
   ],
   "metadata": {
    "id": "GTI-RwENwuwB",
    "pycharm": {
     "name": "#%% md\n"
    }
   }
  },
  {
   "cell_type": "markdown",
   "source": [
    "Install the fitting tensorflow-gpu version. Clone and install tf-wavelets. The wavelet database is used as initializer for the prefiltering network. Restart kernel to complete installation"
   ],
   "metadata": {
    "id": "TeFawZfzwt9h",
    "pycharm": {
     "name": "#%% md\n"
    }
   }
  },
  {
   "cell_type": "code",
   "execution_count": null,
   "metadata": {
    "colab": {
     "base_uri": "https://localhost:8080/"
    },
    "id": "lvA9ze3-wk97",
    "outputId": "f9178bbe-9deb-425e-a2ba-719b8b928909",
    "pycharm": {
     "name": "#%%\n"
    }
   },
   "outputs": [
    {
     "output_type": "stream",
     "name": "stdout",
     "text": [
      "Cloning into 'tf-wavelets'...\n",
      "remote: Enumerating objects: 321, done.\u001B[K\n",
      "remote: Counting objects: 100% (21/21), done.\u001B[K\n",
      "remote: Compressing objects: 100% (12/12), done.\u001B[K\n",
      "remote: Total 321 (delta 9), reused 21 (delta 9), pack-reused 300\u001B[K\n",
      "Receiving objects: 100% (321/321), 5.71 MiB | 20.66 MiB/s, done.\n",
      "Resolving deltas: 100% (157/157), done.\n",
      "running install\n",
      "running bdist_egg\n",
      "running egg_info\n",
      "creating tfwavelets.egg-info\n",
      "writing tfwavelets.egg-info/PKG-INFO\n",
      "writing dependency_links to tfwavelets.egg-info/dependency_links.txt\n",
      "writing requirements to tfwavelets.egg-info/requires.txt\n",
      "writing top-level names to tfwavelets.egg-info/top_level.txt\n",
      "writing manifest file 'tfwavelets.egg-info/SOURCES.txt'\n",
      "adding license file 'LICENSE'\n",
      "writing manifest file 'tfwavelets.egg-info/SOURCES.txt'\n",
      "installing library code to build/bdist.linux-x86_64/egg\n",
      "running install_lib\n",
      "running build_py\n",
      "creating build\n",
      "creating build/lib\n",
      "creating build/lib/tfwavelets\n",
      "copying tfwavelets/__init__.py -> build/lib/tfwavelets\n",
      "copying tfwavelets/utils.py -> build/lib/tfwavelets\n",
      "copying tfwavelets/nodes.py -> build/lib/tfwavelets\n",
      "copying tfwavelets/wrappers.py -> build/lib/tfwavelets\n",
      "copying tfwavelets/dwtcoeffs.py -> build/lib/tfwavelets\n",
      "creating build/bdist.linux-x86_64\n",
      "creating build/bdist.linux-x86_64/egg\n",
      "creating build/bdist.linux-x86_64/egg/tfwavelets\n",
      "copying build/lib/tfwavelets/__init__.py -> build/bdist.linux-x86_64/egg/tfwavelets\n",
      "copying build/lib/tfwavelets/utils.py -> build/bdist.linux-x86_64/egg/tfwavelets\n",
      "copying build/lib/tfwavelets/nodes.py -> build/bdist.linux-x86_64/egg/tfwavelets\n",
      "copying build/lib/tfwavelets/wrappers.py -> build/bdist.linux-x86_64/egg/tfwavelets\n",
      "copying build/lib/tfwavelets/dwtcoeffs.py -> build/bdist.linux-x86_64/egg/tfwavelets\n",
      "byte-compiling build/bdist.linux-x86_64/egg/tfwavelets/__init__.py to __init__.cpython-37.pyc\n",
      "byte-compiling build/bdist.linux-x86_64/egg/tfwavelets/utils.py to utils.cpython-37.pyc\n",
      "byte-compiling build/bdist.linux-x86_64/egg/tfwavelets/nodes.py to nodes.cpython-37.pyc\n",
      "byte-compiling build/bdist.linux-x86_64/egg/tfwavelets/wrappers.py to wrappers.cpython-37.pyc\n",
      "byte-compiling build/bdist.linux-x86_64/egg/tfwavelets/dwtcoeffs.py to dwtcoeffs.cpython-37.pyc\n",
      "creating build/bdist.linux-x86_64/egg/EGG-INFO\n",
      "copying tfwavelets.egg-info/PKG-INFO -> build/bdist.linux-x86_64/egg/EGG-INFO\n",
      "copying tfwavelets.egg-info/SOURCES.txt -> build/bdist.linux-x86_64/egg/EGG-INFO\n",
      "copying tfwavelets.egg-info/dependency_links.txt -> build/bdist.linux-x86_64/egg/EGG-INFO\n",
      "copying tfwavelets.egg-info/not-zip-safe -> build/bdist.linux-x86_64/egg/EGG-INFO\n",
      "copying tfwavelets.egg-info/requires.txt -> build/bdist.linux-x86_64/egg/EGG-INFO\n",
      "copying tfwavelets.egg-info/top_level.txt -> build/bdist.linux-x86_64/egg/EGG-INFO\n",
      "creating dist\n",
      "creating 'dist/tfwavelets-0.1-py3.7.egg' and adding 'build/bdist.linux-x86_64/egg' to it\n",
      "removing 'build/bdist.linux-x86_64/egg' (and everything under it)\n",
      "Processing tfwavelets-0.1-py3.7.egg\n",
      "creating /usr/local/lib/python3.7/dist-packages/tfwavelets-0.1-py3.7.egg\n",
      "Extracting tfwavelets-0.1-py3.7.egg to /usr/local/lib/python3.7/dist-packages\n",
      "Adding tfwavelets 0.1 to easy-install.pth file\n",
      "\n",
      "Installed /usr/local/lib/python3.7/dist-packages/tfwavelets-0.1-py3.7.egg\n",
      "Processing dependencies for tfwavelets==0.1\n",
      "Searching for tf-estimator-nightly==2.8.0.dev2021122109\n",
      "Reading https://pypi.org/simple/tf-estimator-nightly/\n",
      "Downloading https://files.pythonhosted.org/packages/a7/f1/f89e097f377b163856076f167baf149b010df3bbf425d2c06276048e2051/tf_estimator_nightly-2.8.0.dev2021122109-py2.py3-none-any.whl#sha256=0065a04e396b2890bd19761fc1de7559ceafeba12839f8db2c7e7473afaaf612\n",
      "Best match: tf-estimator-nightly 2.8.0.dev2021122109\n",
      "Processing tf_estimator_nightly-2.8.0.dev2021122109-py2.py3-none-any.whl\n",
      "Installing tf_estimator_nightly-2.8.0.dev2021122109-py2.py3-none-any.whl to /usr/local/lib/python3.7/dist-packages\n",
      "Adding tf-estimator-nightly 2.8.0.dev2021122109 to easy-install.pth file\n",
      "\n",
      "Installed /usr/local/lib/python3.7/dist-packages/tf_estimator_nightly-2.8.0.dev2021122109-py3.7.egg\n",
      "Searching for numpy==1.21.6\n",
      "Best match: numpy 1.21.6\n",
      "Adding numpy 1.21.6 to easy-install.pth file\n",
      "Installing f2py script to /usr/local/bin\n",
      "Installing f2py3 script to /usr/local/bin\n",
      "Installing f2py3.7 script to /usr/local/bin\n",
      "\n",
      "Using /usr/local/lib/python3.7/dist-packages\n",
      "Searching for tensorflow==2.8.0\n",
      "Best match: tensorflow 2.8.0\n",
      "Adding tensorflow 2.8.0 to easy-install.pth file\n",
      "Installing estimator_ckpt_converter script to /usr/local/bin\n",
      "Installing import_pb_to_tensorboard script to /usr/local/bin\n",
      "Installing saved_model_cli script to /usr/local/bin\n",
      "Installing tensorboard script to /usr/local/bin\n",
      "Installing tf_upgrade_v2 script to /usr/local/bin\n",
      "Installing tflite_convert script to /usr/local/bin\n",
      "Installing toco script to /usr/local/bin\n",
      "Installing toco_from_protos script to /usr/local/bin\n",
      "\n",
      "Using /usr/local/lib/python3.7/dist-packages\n",
      "Searching for tensorboard==2.8.0\n",
      "Best match: tensorboard 2.8.0\n",
      "Adding tensorboard 2.8.0 to easy-install.pth file\n",
      "Installing tensorboard script to /usr/local/bin\n",
      "\n",
      "Using /usr/local/lib/python3.7/dist-packages\n",
      "Searching for protobuf==3.17.3\n",
      "Best match: protobuf 3.17.3\n",
      "Adding protobuf 3.17.3 to easy-install.pth file\n",
      "\n",
      "Using /usr/local/lib/python3.7/dist-packages\n",
      "Searching for keras==2.8.0\n",
      "Best match: keras 2.8.0\n",
      "Adding keras 2.8.0 to easy-install.pth file\n",
      "\n",
      "Using /usr/local/lib/python3.7/dist-packages\n",
      "Searching for libclang==14.0.1\n",
      "Best match: libclang 14.0.1\n",
      "Adding libclang 14.0.1 to easy-install.pth file\n",
      "\n",
      "Using /usr/local/lib/python3.7/dist-packages\n",
      "Searching for flatbuffers==2.0\n",
      "Best match: flatbuffers 2.0\n",
      "Adding flatbuffers 2.0 to easy-install.pth file\n",
      "\n",
      "Using /usr/local/lib/python3.7/dist-packages\n",
      "Searching for opt-einsum==3.3.0\n",
      "Best match: opt-einsum 3.3.0\n",
      "Adding opt-einsum 3.3.0 to easy-install.pth file\n",
      "\n",
      "Using /usr/local/lib/python3.7/dist-packages\n",
      "Searching for gast==0.5.3\n",
      "Best match: gast 0.5.3\n",
      "Adding gast 0.5.3 to easy-install.pth file\n",
      "\n",
      "Using /usr/local/lib/python3.7/dist-packages\n",
      "Searching for typing-extensions==4.2.0\n",
      "Best match: typing-extensions 4.2.0\n",
      "Adding typing-extensions 4.2.0 to easy-install.pth file\n",
      "\n",
      "Using /usr/local/lib/python3.7/dist-packages\n",
      "Searching for h5py==3.1.0\n",
      "Best match: h5py 3.1.0\n",
      "Adding h5py 3.1.0 to easy-install.pth file\n",
      "\n",
      "Using /usr/local/lib/python3.7/dist-packages\n",
      "Searching for six==1.15.0\n",
      "Best match: six 1.15.0\n",
      "Adding six 1.15.0 to easy-install.pth file\n",
      "\n",
      "Using /usr/local/lib/python3.7/dist-packages\n",
      "Searching for absl-py==1.0.0\n",
      "Best match: absl-py 1.0.0\n",
      "Adding absl-py 1.0.0 to easy-install.pth file\n",
      "\n",
      "Using /usr/local/lib/python3.7/dist-packages\n",
      "Searching for wrapt==1.14.0\n",
      "Best match: wrapt 1.14.0\n",
      "Adding wrapt 1.14.0 to easy-install.pth file\n",
      "\n",
      "Using /usr/local/lib/python3.7/dist-packages\n",
      "Searching for grpcio==1.44.0\n",
      "Best match: grpcio 1.44.0\n",
      "Adding grpcio 1.44.0 to easy-install.pth file\n",
      "\n",
      "Using /usr/local/lib/python3.7/dist-packages\n",
      "Searching for astunparse==1.6.3\n",
      "Best match: astunparse 1.6.3\n",
      "Adding astunparse 1.6.3 to easy-install.pth file\n",
      "\n",
      "Using /usr/local/lib/python3.7/dist-packages\n",
      "Searching for tensorflow-io-gcs-filesystem==0.25.0\n",
      "Best match: tensorflow-io-gcs-filesystem 0.25.0\n",
      "Adding tensorflow-io-gcs-filesystem 0.25.0 to easy-install.pth file\n",
      "\n",
      "Using /usr/local/lib/python3.7/dist-packages\n",
      "Searching for Keras-Preprocessing==1.1.2\n",
      "Best match: Keras-Preprocessing 1.1.2\n",
      "Adding Keras-Preprocessing 1.1.2 to easy-install.pth file\n",
      "\n",
      "Using /usr/local/lib/python3.7/dist-packages\n",
      "Searching for setuptools==57.4.0\n",
      "Best match: setuptools 57.4.0\n",
      "Adding setuptools 57.4.0 to easy-install.pth file\n",
      "\n",
      "Using /usr/local/lib/python3.7/dist-packages\n",
      "Searching for google-pasta==0.2.0\n",
      "Best match: google-pasta 0.2.0\n",
      "Adding google-pasta 0.2.0 to easy-install.pth file\n",
      "\n",
      "Using /usr/local/lib/python3.7/dist-packages\n",
      "Searching for termcolor==1.1.0\n",
      "Best match: termcolor 1.1.0\n",
      "Adding termcolor 1.1.0 to easy-install.pth file\n",
      "\n",
      "Using /usr/local/lib/python3.7/dist-packages\n",
      "Searching for Markdown==3.3.6\n",
      "Best match: Markdown 3.3.6\n",
      "Adding Markdown 3.3.6 to easy-install.pth file\n",
      "Installing markdown_py script to /usr/local/bin\n",
      "\n",
      "Using /usr/local/lib/python3.7/dist-packages\n",
      "Searching for tensorboard-plugin-wit==1.8.1\n",
      "Best match: tensorboard-plugin-wit 1.8.1\n",
      "Adding tensorboard-plugin-wit 1.8.1 to easy-install.pth file\n",
      "\n",
      "Using /usr/local/lib/python3.7/dist-packages\n",
      "Searching for google-auth==1.35.0\n",
      "Best match: google-auth 1.35.0\n",
      "Adding google-auth 1.35.0 to easy-install.pth file\n",
      "\n",
      "Using /usr/local/lib/python3.7/dist-packages\n",
      "Searching for tensorboard-data-server==0.6.1\n",
      "Best match: tensorboard-data-server 0.6.1\n",
      "Adding tensorboard-data-server 0.6.1 to easy-install.pth file\n",
      "\n",
      "Using /usr/local/lib/python3.7/dist-packages\n",
      "Searching for requests==2.23.0\n",
      "Best match: requests 2.23.0\n",
      "Adding requests 2.23.0 to easy-install.pth file\n",
      "\n",
      "Using /usr/local/lib/python3.7/dist-packages\n",
      "Searching for Werkzeug==1.0.1\n",
      "Best match: Werkzeug 1.0.1\n",
      "Adding Werkzeug 1.0.1 to easy-install.pth file\n",
      "\n",
      "Using /usr/local/lib/python3.7/dist-packages\n",
      "Searching for wheel==0.37.1\n",
      "Best match: wheel 0.37.1\n",
      "Adding wheel 0.37.1 to easy-install.pth file\n",
      "Installing wheel script to /usr/local/bin\n",
      "\n",
      "Using /usr/local/lib/python3.7/dist-packages\n",
      "Searching for google-auth-oauthlib==0.4.6\n",
      "Best match: google-auth-oauthlib 0.4.6\n",
      "Adding google-auth-oauthlib 0.4.6 to easy-install.pth file\n",
      "Installing google-oauthlib-tool script to /usr/local/bin\n",
      "\n",
      "Using /usr/local/lib/python3.7/dist-packages\n",
      "Searching for cached-property==1.5.2\n",
      "Best match: cached-property 1.5.2\n",
      "Adding cached-property 1.5.2 to easy-install.pth file\n",
      "\n",
      "Using /usr/local/lib/python3.7/dist-packages\n",
      "Searching for importlib-metadata==4.11.3\n",
      "Best match: importlib-metadata 4.11.3\n",
      "Adding importlib-metadata 4.11.3 to easy-install.pth file\n",
      "\n",
      "Using /usr/local/lib/python3.7/dist-packages\n",
      "Searching for cachetools==4.2.4\n",
      "Best match: cachetools 4.2.4\n",
      "Adding cachetools 4.2.4 to easy-install.pth file\n",
      "\n",
      "Using /usr/local/lib/python3.7/dist-packages\n",
      "Searching for rsa==4.8\n",
      "Best match: rsa 4.8\n",
      "Adding rsa 4.8 to easy-install.pth file\n",
      "Installing pyrsa-decrypt script to /usr/local/bin\n",
      "Installing pyrsa-encrypt script to /usr/local/bin\n",
      "Installing pyrsa-keygen script to /usr/local/bin\n",
      "Installing pyrsa-priv2pub script to /usr/local/bin\n",
      "Installing pyrsa-sign script to /usr/local/bin\n",
      "Installing pyrsa-verify script to /usr/local/bin\n",
      "\n",
      "Using /usr/local/lib/python3.7/dist-packages\n",
      "Searching for pyasn1-modules==0.2.8\n",
      "Best match: pyasn1-modules 0.2.8\n",
      "Adding pyasn1-modules 0.2.8 to easy-install.pth file\n",
      "\n",
      "Using /usr/local/lib/python3.7/dist-packages\n",
      "Searching for certifi==2021.10.8\n",
      "Best match: certifi 2021.10.8\n",
      "Adding certifi 2021.10.8 to easy-install.pth file\n",
      "\n",
      "Using /usr/local/lib/python3.7/dist-packages\n",
      "Searching for idna==2.10\n",
      "Best match: idna 2.10\n",
      "Adding idna 2.10 to easy-install.pth file\n",
      "\n",
      "Using /usr/local/lib/python3.7/dist-packages\n",
      "Searching for chardet==3.0.4\n",
      "Best match: chardet 3.0.4\n",
      "Adding chardet 3.0.4 to easy-install.pth file\n",
      "Installing chardetect script to /usr/local/bin\n",
      "\n",
      "Using /usr/local/lib/python3.7/dist-packages\n",
      "Searching for urllib3==1.24.3\n",
      "Best match: urllib3 1.24.3\n",
      "Adding urllib3 1.24.3 to easy-install.pth file\n",
      "\n",
      "Using /usr/local/lib/python3.7/dist-packages\n",
      "Searching for requests-oauthlib==1.3.1\n",
      "Best match: requests-oauthlib 1.3.1\n",
      "Adding requests-oauthlib 1.3.1 to easy-install.pth file\n",
      "\n",
      "Using /usr/local/lib/python3.7/dist-packages\n",
      "Searching for zipp==3.8.0\n",
      "Best match: zipp 3.8.0\n",
      "Adding zipp 3.8.0 to easy-install.pth file\n",
      "\n",
      "Using /usr/local/lib/python3.7/dist-packages\n",
      "Searching for pyasn1==0.4.8\n",
      "Best match: pyasn1 0.4.8\n",
      "Adding pyasn1 0.4.8 to easy-install.pth file\n",
      "\n",
      "Using /usr/local/lib/python3.7/dist-packages\n",
      "Searching for oauthlib==3.2.0\n",
      "Best match: oauthlib 3.2.0\n",
      "Adding oauthlib 3.2.0 to easy-install.pth file\n",
      "\n",
      "Using /usr/local/lib/python3.7/dist-packages\n",
      "Finished processing dependencies for tfwavelets==0.1\n",
      "Collecting tensorflow_addons\n",
      "  Downloading tensorflow_addons-0.16.1-cp37-cp37m-manylinux_2_12_x86_64.manylinux2010_x86_64.whl (1.1 MB)\n",
      "\u001B[K     |████████████████████████████████| 1.1 MB 32.3 MB/s \n",
      "\u001B[?25hRequirement already satisfied: typeguard>=2.7 in /usr/local/lib/python3.7/dist-packages (from tensorflow_addons) (2.7.1)\n",
      "Installing collected packages: tensorflow-addons\n",
      "Successfully installed tensorflow-addons-0.16.1\n"
     ]
    }
   ],
   "source": [
    "!git clone https://github.com/UiO-CS/tf-wavelets\n",
    "!(cd tf-wavelets && python setup.py install)\n",
    "!pip install tensorflow_addons\n",
    "import os\n",
    "os.kill(os.getpid(), 9)"
   ]
  },
  {
   "cell_type": "markdown",
   "source": [
    "# Pull and update AI here"
   ],
   "metadata": {
    "id": "AUfvilLRw7C6",
    "pycharm": {
     "name": "#%% md\n"
    }
   }
  },
  {
   "cell_type": "markdown",
   "source": [
    "Get `ReCSAI` from Github"
   ],
   "metadata": {
    "id": "PCuuF7soxAnB",
    "pycharm": {
     "name": "#%% md\n"
    }
   }
  },
  {
   "cell_type": "code",
   "source": [
    "!git clone https://github.com/super-resolution/ReCSAI"
   ],
   "metadata": {
    "colab": {
     "base_uri": "https://localhost:8080/"
    },
    "id": "GjyuTQLoxBXA",
    "outputId": "2c73f18c-5782-4351-814e-8242da0db00b",
    "pycharm": {
     "name": "#%%\n"
    }
   },
   "execution_count": null,
   "outputs": [
    {
     "output_type": "stream",
     "name": "stdout",
     "text": [
      "Cloning into 'CSrecon'...\n",
      "remote: Enumerating objects: 2320, done.\u001B[K\n",
      "remote: Counting objects: 100% (13/13), done.\u001B[K\n",
      "remote: Compressing objects: 100% (10/10), done.\u001B[K\n",
      "remote: Total 2320 (delta 4), reused 7 (delta 3), pack-reused 2307\u001B[K\n",
      "Receiving objects: 100% (2320/2320), 460.72 MiB | 16.65 MiB/s, done.\n",
      "Resolving deltas: 100% (1507/1507), done.\n",
      "Checking out files: 100% (1605/1605), done.\n"
     ]
    }
   ]
  },
  {
   "cell_type": "markdown",
   "source": [
    "Change the working directory to the cloned folder and pull update"
   ],
   "metadata": {
    "id": "sjJC_W-QyDnx",
    "pycharm": {
     "name": "#%% md\n"
    }
   }
  },
  {
   "cell_type": "code",
   "source": [
    "%cd ReCSAI"
   ],
   "metadata": {
    "colab": {
     "base_uri": "https://localhost:8080/"
    },
    "id": "0txyF0S6x5IR",
    "outputId": "98cb8997-41c3-40ef-d637-736c9a55a67e",
    "pycharm": {
     "name": "#%%\n"
    }
   },
   "execution_count": null,
   "outputs": [
    {
     "output_type": "stream",
     "name": "stdout",
     "text": [
      "/content/CSrecon\n",
      "From https://github.com/super-resolution/CSrecon\n",
      " * branch            HEAD       -> FETCH_HEAD\n",
      "Already up to date.\n"
     ]
    }
   ]
  },
  {
   "cell_type": "code",
   "source": [
    "import tensorflow as tf\n",
    "from src.data import DataGeneration, GPUDataGeneration\n",
    "from src.visualization import plot_data_gen\n",
    "import os \n",
    "print(os.getcwd())\n"
   ],
   "metadata": {
    "id": "dKzHVfvxjpTj",
    "colab": {
     "base_uri": "https://localhost:8080/"
    },
    "outputId": "bd591246-ac9c-4fd6-b385-6b897647a63e",
    "pycharm": {
     "name": "#%%\n"
    }
   },
   "execution_count": null,
   "outputs": [
    {
     "output_type": "stream",
     "name": "stdout",
     "text": [
      "/content/CSrecon\n"
     ]
    }
   ]
  },
  {
   "cell_type": "markdown",
   "source": [
    "\n",
    "Possible kwargs for `DataGeneration`:\n",
    "*   `sigma_x`: Standard deviation of the PSF in x direction\n",
    "*   `sigma_y`: Standard deviation of the PSF in y direction\n",
    "*   `quantum_efficiency`: Quatum efficiency of the detector\n",
    "*   `dark_noise`: Dark noise of the detector\n",
    "*   `sensitivity`: Sensitivity of the detector\n",
    "*   `bitdepth`: Bitdepth of the discretization\n",
    "Build a data generator and show some sample frames \n"
   ],
   "metadata": {
    "id": "rOV3LEzAxHiB",
    "pycharm": {
     "name": "#%% md\n"
    }
   }
  },
  {
   "cell_type": "code",
   "source": [
    "\n",
    "gener = GPUDataGeneration(9)\n",
    "generator, shape = gener.create_data_generator(2, noiseless_ground_truth=True)\n",
    "dataset = tf.data.Dataset.from_generator(generator, (tf.float32, tf.float32, tf.float32, tf.float32),\n",
    "                                          output_shapes=shape)\n",
    "plot_data_gen(dataset)\n"
   ],
   "metadata": {
    "colab": {
     "base_uri": "https://localhost:8080/",
     "height": 1000
    },
    "id": "7ebU_NZeyv4K",
    "outputId": "038490f2-d68f-42d4-ad41-7dc613a45a74",
    "pycharm": {
     "name": "#%%\n"
    }
   },
   "execution_count": null,
   "outputs": [
    {
     "output_type": "stream",
     "name": "stdout",
     "text": [
      "0\n"
     ]
    },
    {
     "output_type": "display_data",
     "data": {
      "text/plain": [
       "<Figure size 432x288 with 2 Axes>"
      ],
      "image/png": "[encoded data removed]"
     },
     "metadata": {
      "needs_background": "light"
     }
    },
    {
     "output_type": "stream",
     "name": "stdout",
     "text": [
      "0\n"
     ]
    },
    {
     "output_type": "display_data",
     "data": {
      "text/plain": [
       "<Figure size 432x288 with 2 Axes>"
      ],
      "image/png": "[encoded data removed]"
     },
     "metadata": {
      "needs_background": "light"
     }
    },
    {
     "output_type": "stream",
     "name": "stdout",
     "text": [
      "0\n"
     ]
    },
    {
     "output_type": "display_data",
     "data": {
      "text/plain": [
       "<Figure size 432x288 with 2 Axes>"
      ],
      "image/png": "[encoded data removed]"
     },
     "metadata": {
      "needs_background": "light"
     }
    },
    {
     "output_type": "stream",
     "name": "stdout",
     "text": [
      "0\n"
     ]
    },
    {
     "output_type": "display_data",
     "data": {
      "text/plain": [
       "<Figure size 432x288 with 2 Axes>"
      ],
      "image/png": "[encoded data removed]"
     },
     "metadata": {
      "needs_background": "light"
     }
    }
   ]
  },
  {
   "cell_type": "markdown",
   "source": [
    "# Create a larger dataset for Training"
   ],
   "metadata": {
    "id": "3BXo_ZgnhGT5",
    "pycharm": {
     "name": "#%% md\n"
    }
   }
  },
  {
   "cell_type": "code",
   "source": [
    "gener.create_dataset(r\"example_path\", dataset_size=1)"
   ],
   "metadata": {
    "id": "fDwyeQv8z5n6",
    "colab": {
     "base_uri": "https://localhost:8080/"
    },
    "outputId": "2c4cc9fb-e8bc-4655-c427-10e43aa30656",
    "pycharm": {
     "name": "#%%\n"
    }
   },
   "execution_count": null,
   "outputs": [
    {
     "output_type": "stream",
     "name": "stdout",
     "text": [
      "0\n",
      "1\n",
      "2\n",
      "3\n",
      "4\n",
      "5\n",
      "WARNING:tensorflow:5 out of the last 10 calls to <function translate at 0x7f3f23e8b7a0> triggered tf.function retracing. Tracing is expensive and the excessive number of tracings could be due to (1) creating @tf.function repeatedly in a loop, (2) passing tensors with different shapes, (3) passing Python objects instead of tensors. For (1), please define your @tf.function outside of the loop. For (2), @tf.function has experimental_relax_shapes=True option that relaxes argument shapes that can avoid unnecessary retracing. For (3), please refer to https://www.tensorflow.org/guide/function#controlling_retracing and https://www.tensorflow.org/api_docs/python/tf/function for  more details.\n",
      "6\n",
      "WARNING:tensorflow:6 out of the last 11 calls to <function translate at 0x7f3f23e8b7a0> triggered tf.function retracing. Tracing is expensive and the excessive number of tracings could be due to (1) creating @tf.function repeatedly in a loop, (2) passing tensors with different shapes, (3) passing Python objects instead of tensors. For (1), please define your @tf.function outside of the loop. For (2), @tf.function has experimental_relax_shapes=True option that relaxes argument shapes that can avoid unnecessary retracing. For (3), please refer to https://www.tensorflow.org/guide/function#controlling_retracing and https://www.tensorflow.org/api_docs/python/tf/function for  more details.\n",
      "7\n",
      "8\n",
      "9\n",
      "10\n",
      "11\n",
      "12\n",
      "13\n",
      "14\n",
      "15\n",
      "16\n",
      "17\n",
      "18\n",
      "19\n",
      "0\n",
      "1\n",
      "2\n",
      "3\n",
      "4\n",
      "5\n",
      "6\n",
      "7\n",
      "8\n",
      "9\n",
      "10\n",
      "11\n",
      "12\n",
      "13\n",
      "14\n",
      "15\n",
      "16\n",
      "17\n",
      "18\n",
      "19\n",
      "0\n",
      "1\n",
      "2\n",
      "3\n",
      "4\n",
      "5\n",
      "6\n",
      "7\n",
      "8\n",
      "9\n",
      "10\n",
      "11\n",
      "12\n",
      "13\n",
      "14\n",
      "15\n",
      "16\n",
      "17\n",
      "18\n",
      "19\n",
      "0\n",
      "1\n",
      "2\n",
      "3\n",
      "4\n",
      "5\n",
      "6\n",
      "7\n",
      "8\n",
      "9\n",
      "10\n",
      "11\n",
      "12\n",
      "13\n",
      "14\n",
      "15\n",
      "16\n",
      "17\n",
      "18\n",
      "19\n"
     ]
    }
   ]
  },
  {
   "cell_type": "markdown",
   "source": [
    "# Start your training"
   ],
   "metadata": {
    "id": "sxAF-tRaheou",
    "pycharm": {
     "name": "#%% md\n"
    }
   }
  },
  {
   "cell_type": "code",
   "source": [
    "from src.trainings.train_cs_net import ResUNetFacade\n",
    "\n",
    "training = ResUNetFacade()\n",
    "training.dataset_path = r\"/example_path\"\n",
    "training.train_saved_data()"
   ],
   "metadata": {
    "id": "CryCKWXshRi3",
    "colab": {
     "base_uri": "https://localhost:8080/",
     "height": 1000
    },
    "outputId": "758144b0-920c-4cef-9581-c8c6345ef605",
    "pycharm": {
     "name": "#%%\n"
    }
   },
   "execution_count": null,
   "outputs": [
    {
     "output_type": "stream",
     "name": "stdout",
     "text": [
      "(None, 16, 8, 1) (None, 16, 8, 1)\n",
      "(None, 16, 8, 1) (None, 16, 8, 1)\n",
      "(None, 32, 16, 1) (None, 32, 16, 1)\n",
      "(None, 32, 16, 1) (None, 32, 16, 1)\n",
      "(None, 64, 32, 1) (None, 64, 32, 1)\n",
      "(None, 64, 32, 1) (None, 64, 32, 1)\n",
      "(None, 128, 64, 1) (None, 128, 64, 1)\n",
      "(None, 128, 64, 1) (None, 128, 64, 1)\n",
      "initializing metrics from scratch\n",
      "Initializing from scratch.\n",
      "tf.Tensor(0, shape=(), dtype=int32)\n",
      "no truth data found\n",
      "no truth data found\n",
      "validation loss = 33148.58984375\n",
      "[-0.0343316   0.03432227]\n",
      "68.10652976059109\n",
      "jaccard index 0.02 rmse 21.77 fp 7312.00 fn 808.00\n",
      "tf.Tensor(0, shape=(), dtype=int32)\n",
      "no truth data found\n",
      "no truth data found\n",
      "validation loss = 13053.880859375\n",
      "nan\n",
      "jaccard index 0.00 rmse 9000.00 fp 0.00 fn 0.00\n",
      "tf.Tensor(0, shape=(), dtype=int32)\n",
      "no truth data found\n"
     ]
    },
    {
     "output_type": "stream",
     "name": "stderr",
     "text": [
      "/usr/local/lib/python3.7/dist-packages/numpy/core/fromnumeric.py:3441: RuntimeWarning: Mean of empty slice.\n",
      "  out=out, **kwargs)\n",
      "/usr/local/lib/python3.7/dist-packages/numpy/core/_methods.py:189: RuntimeWarning: invalid value encountered in double_scalars\n",
      "  ret = ret.dtype.type(ret / rcount)\n"
     ]
    },
    {
     "output_type": "stream",
     "name": "stdout",
     "text": [
      "Saved checkpoint for step 10: /content/CSrecon/trainings/cs_u/_final2_training_100_gpu_data/ckpt-1\n",
      "loss 6201.18\n",
      "no truth data found\n",
      "validation loss = 5536.06201171875\n",
      "[-0.05971839  0.11987293]\n",
      "68.09592548331713\n",
      "jaccard index 0.04 rmse 23.60 fp 6670.00 fn 667.00\n",
      "tf.Tensor(0, shape=(), dtype=int32)\n",
      "no truth data found\n",
      "no truth data found\n",
      "validation loss = 7993.498046875\n",
      "[-0.13638903  0.13723896]\n",
      "67.87756165248017\n",
      "jaccard index 0.05 rmse 23.09 fp 6626.00 fn 623.00\n",
      "tf.Tensor(0, shape=(), dtype=int32)\n",
      "no truth data found\n",
      "no truth data found\n",
      "validation loss = 5083.423828125\n",
      "[-0.19518676  0.3587767 ]\n",
      "64.6418869318871\n",
      "jaccard index 0.05 rmse 24.22 fp 6578.00 fn 576.00\n",
      "tf.Tensor(0, shape=(), dtype=int32)\n",
      "no truth data found\n",
      "no truth data found\n",
      "validation loss = 5733.1875\n",
      "[-0.06839599  0.3574814 ]\n",
      "62.53581740900028\n",
      "jaccard index 0.07 rmse 24.75 fp 7435.00 fn 433.00\n",
      "tf.Tensor(0, shape=(), dtype=int32)\n",
      "no truth data found\n",
      "Saved checkpoint for step 20: /content/CSrecon/trainings/cs_u/_final2_training_100_gpu_data/ckpt-2\n",
      "loss 6008.70\n",
      "no truth data found\n",
      "validation loss = 4658.41748046875\n",
      "[-0.05047921  0.20550899]\n",
      "63.79915541083839\n",
      "jaccard index 0.07 rmse 24.33 fp 7412.00 fn 410.00\n",
      "tf.Tensor(0, shape=(), dtype=int32)\n",
      "no truth data found\n",
      "no truth data found\n",
      "validation loss = 4880.90234375\n",
      "[-0.12693614 -0.01812728]\n",
      "64.00934648786104\n",
      "jaccard index 0.07 rmse 24.49 fp 8127.00 fn 389.00\n",
      "tf.Tensor(0, shape=(), dtype=int32)\n",
      "no truth data found\n",
      "no truth data found\n",
      "validation loss = 4510.59130859375\n",
      "[-0.17101    -0.03856857]\n",
      "64.1031423788759\n",
      "jaccard index 0.07 rmse 24.34 fp 8362.00 fn 361.00\n",
      "tf.Tensor(0, shape=(), dtype=int32)\n",
      "no truth data found\n",
      "Saved checkpoint for step 30: /content/CSrecon/trainings/cs_u/_final2_training_100_gpu_data/ckpt-3\n",
      "loss 4179.43\n",
      "no truth data found\n",
      "validation loss = 4372.3095703125\n",
      "[-0.0687775   0.01373034]\n",
      "63.74190381041561\n",
      "jaccard index 0.07 rmse 23.62 fp 8343.00 fn 342.00\n",
      "tf.Tensor(0, shape=(), dtype=int32)\n",
      "no truth data found\n",
      "no truth data found\n",
      "validation loss = 4143.66552734375\n",
      "[-0.01563974  0.14113723]\n",
      "64.35625347806807\n",
      "jaccard index 0.07 rmse 23.65 fp 7423.00 fn 421.00\n",
      "tf.Tensor(0, shape=(), dtype=int32)\n",
      "no truth data found\n",
      "no truth data found\n",
      "validation loss = 3992.28271484375\n",
      "[0.06462172 0.05437315]\n",
      "65.31812121466676\n",
      "jaccard index 0.07 rmse 23.78 fp 7421.00 fn 419.00\n",
      "tf.Tensor(0, shape=(), dtype=int32)\n",
      "no truth data found\n",
      "Saved checkpoint for step 40: /content/CSrecon/trainings/cs_u/_final2_training_100_gpu_data/ckpt-4\n",
      "loss 3638.15\n",
      "no truth data found\n",
      "validation loss = 3808.915771484375\n",
      "[-0.02912305 -0.01989927]\n",
      "63.90525316802162\n",
      "jaccard index 0.06 rmse 23.37 fp 7465.00 fn 463.00\n",
      "tf.Tensor(0, shape=(), dtype=int32)\n",
      "no truth data found\n",
      "no truth data found\n",
      "validation loss = 3566.275634765625\n",
      "[ 0.00138735 -0.12892056]\n",
      "65.47200960081268\n",
      "jaccard index 0.06 rmse 23.16 fp 6541.00 fn 538.00\n",
      "tf.Tensor(0, shape=(), dtype=int32)\n",
      "no truth data found\n",
      "no truth data found\n",
      "validation loss = 3009.201416015625\n",
      "[ 0.17887607 -0.1110024 ]\n",
      "64.95052464492198\n",
      "jaccard index 0.07 rmse 24.10 fp 4955.00 fn 596.00\n",
      "tf.Tensor(0, shape=(), dtype=int32)\n",
      "no truth data found\n",
      "no truth data found\n",
      "validation loss = 3167.467041015625\n",
      "[0.14197746 0.09319784]\n",
      "63.97780470165619\n",
      "jaccard index 0.07 rmse 24.87 fp 5494.00 fn 555.00\n",
      "tf.Tensor(0, shape=(), dtype=int32)\n",
      "no truth data found\n",
      "Saved checkpoint for step 50: /content/CSrecon/trainings/cs_u/_final2_training_100_gpu_data/ckpt-5\n",
      "loss 3434.62\n",
      "no truth data found\n",
      "validation loss = 2257.769775390625\n",
      "[ 0.20440133 -0.03133668]\n",
      "65.61042389132372\n",
      "jaccard index 0.07 rmse 24.83 fp 5526.00 fn 527.00\n",
      "tf.Tensor(1, shape=(), dtype=int32)\n",
      "no truth data found\n",
      "no truth data found\n",
      "validation loss = 2510.81005859375\n",
      "[-0.06868793 -0.06543253]\n",
      "64.16222246717643\n",
      "jaccard index 0.07 rmse 25.20 fp 6193.00 fn 497.00\n",
      "tf.Tensor(1, shape=(), dtype=int32)\n",
      "no truth data found\n",
      "no truth data found\n",
      "validation loss = 1995.126220703125\n",
      "[-0.06716566 -0.0835705 ]\n",
      "64.08660702821051\n",
      "jaccard index 0.07 rmse 24.67 fp 6444.00 fn 495.00\n",
      "tf.Tensor(1, shape=(), dtype=int32)\n",
      "no truth data found\n",
      "Saved checkpoint for step 60: /content/CSrecon/trainings/cs_u/_final2_training_100_gpu_data/ckpt-6\n",
      "loss 2009.46\n",
      "no truth data found\n",
      "validation loss = 1968.41455078125\n",
      "[-0.04296416 -0.15628372]\n",
      "64.6737989899333\n",
      "jaccard index 0.07 rmse 24.24 fp 6485.00 fn 492.00\n",
      "tf.Tensor(1, shape=(), dtype=int32)\n",
      "no truth data found\n",
      "no truth data found\n",
      "validation loss = 1856.63232421875\n",
      "[-0.00528824 -0.14239323]\n",
      "64.90162749037614\n",
      "jaccard index 0.07 rmse 24.22 fp 6419.00 fn 503.00\n",
      "tf.Tensor(1, shape=(), dtype=int32)\n",
      "no truth data found\n",
      "no truth data found\n",
      "validation loss = 1736.9171142578125\n",
      "[-0.00204791 -0.09425225]\n",
      "64.54009160112479\n",
      "jaccard index 0.07 rmse 24.57 fp 6286.00 fn 497.00\n",
      "tf.Tensor(1, shape=(), dtype=int32)\n",
      "no truth data found\n",
      "Saved checkpoint for step 70: /content/CSrecon/trainings/cs_u/_final2_training_100_gpu_data/ckpt-7\n",
      "loss 2062.02\n",
      "no truth data found\n",
      "validation loss = 1945.9000244140625\n",
      "[-0.20296122  0.0794263 ]\n",
      "67.04493055201726\n",
      "jaccard index 0.07 rmse 22.89 fp 5467.00 fn 524.00\n",
      "tf.Tensor(1, shape=(), dtype=int32)\n",
      "no truth data found\n",
      "no truth data found\n",
      "validation loss = 1580.78125\n",
      "[0.06307371 0.0820516 ]\n",
      "66.84054895231174\n",
      "jaccard index 0.07 rmse 23.38 fp 5522.00 fn 518.00\n",
      "tf.Tensor(1, shape=(), dtype=int32)\n",
      "no truth data found\n",
      "no truth data found\n",
      "validation loss = 1851.8897705078125\n",
      "[-0.08175339  0.09066822]\n",
      "67.75942037343101\n",
      "jaccard index 0.07 rmse 22.49 fp 5283.00 fn 535.00\n",
      "tf.Tensor(1, shape=(), dtype=int32)\n",
      "no truth data found\n",
      "no truth data found\n",
      "validation loss = 1508.1185302734375\n",
      "[0.22492404 0.06364996]\n",
      "64.3806851428674\n",
      "jaccard index 0.08 rmse 24.26 fp 5183.00 fn 512.00\n",
      "tf.Tensor(1, shape=(), dtype=int32)\n",
      "no truth data found\n",
      "Saved checkpoint for step 80: /content/CSrecon/trainings/cs_u/_final2_training_100_gpu_data/ckpt-8\n",
      "loss 1546.57\n",
      "no truth data found\n",
      "validation loss = 1733.147216796875\n",
      "[0.23038599 0.02646005]\n",
      "65.43623057601337\n",
      "jaccard index 0.08 rmse 23.74 fp 4976.00 fn 526.00\n",
      "tf.Tensor(1, shape=(), dtype=int32)\n",
      "no truth data found\n",
      "no truth data found\n",
      "validation loss = 1403.9429931640625\n",
      "[0.2738688  0.02259145]\n",
      "64.0617087361992\n",
      "jaccard index 0.08 rmse 24.01 fp 5028.00 fn 521.00\n",
      "tf.Tensor(1, shape=(), dtype=int32)\n",
      "no truth data found\n",
      "no truth data found\n",
      "validation loss = 1494.1378173828125\n",
      "[0.30936188 0.01734767]\n",
      "65.77630889431204\n",
      "jaccard index 0.07 rmse 23.65 fp 5021.00 fn 541.00\n",
      "tf.Tensor(1, shape=(), dtype=int32)\n",
      "no truth data found\n",
      "Saved checkpoint for step 90: /content/CSrecon/trainings/cs_u/_final2_training_100_gpu_data/ckpt-9\n",
      "loss 1287.72\n",
      "no truth data found\n",
      "validation loss = 1379.43408203125\n",
      "[0.10716126 0.02605101]\n",
      "64.8499704017795\n",
      "jaccard index 0.07 rmse 23.78 fp 5066.00 fn 541.00\n",
      "tf.Tensor(1, shape=(), dtype=int32)\n",
      "no truth data found\n",
      "no truth data found\n",
      "validation loss = 1295.5701904296875\n",
      "[0.29549766 0.03945636]\n",
      "63.97916000063566\n",
      "jaccard index 0.08 rmse 24.38 fp 5020.00 fn 499.00\n",
      "tf.Tensor(1, shape=(), dtype=int32)\n",
      "no truth data found\n",
      "no truth data found\n",
      "validation loss = 1349.88525390625\n",
      "[0.07908446 0.09866385]\n",
      "64.0750903673892\n",
      "jaccard index 0.09 rmse 23.58 fp 4523.00 fn 521.00\n",
      "tf.Tensor(1, shape=(), dtype=int32)\n",
      "no truth data found\n",
      "Saved checkpoint for step 100: /content/CSrecon/trainings/cs_u/_final2_training_100_gpu_data/ckpt-10\n",
      "loss 1360.21\n",
      "no truth data found\n",
      "validation loss = 1142.368896484375\n",
      "[0.23436031 0.15685374]\n",
      "64.20896241667553\n",
      "jaccard index 0.09 rmse 22.76 fp 4264.00 fn 507.00\n",
      "tf.Tensor(2, shape=(), dtype=int32)\n",
      "no truth data found\n",
      "no truth data found\n",
      "validation loss = 1148.638427734375\n",
      "[0.07374196 0.13835445]\n",
      "64.36182367958148\n",
      "jaccard index 0.08 rmse 23.37 fp 3979.00 fn 595.00\n",
      "tf.Tensor(2, shape=(), dtype=int32)\n",
      "no truth data found\n",
      "no truth data found\n",
      "validation loss = 999.7625732421875\n",
      "[0.31684548 0.01818101]\n",
      "64.12490560165978\n",
      "jaccard index 0.10 rmse 23.52 fp 3797.00 fn 504.00\n",
      "tf.Tensor(2, shape=(), dtype=int32)\n",
      "no truth data found\n",
      "no truth data found\n",
      "validation loss = 933.0338134765625\n",
      "[-0.02923638 -0.09244821]\n",
      "65.75815204509033\n",
      "jaccard index 0.09 rmse 22.20 fp 3393.00 fn 595.00\n",
      "tf.Tensor(2, shape=(), dtype=int32)\n",
      "no truth data found\n",
      "Saved checkpoint for step 110: /content/CSrecon/trainings/cs_u/_final2_training_100_gpu_data/ckpt-11\n",
      "loss 1150.89\n",
      "no truth data found\n",
      "validation loss = 849.3807373046875\n",
      "[0.17373885 0.21215567]\n",
      "60.6629957178165\n",
      "jaccard index 0.15 rmse 24.38 fp 2424.00 fn 494.00\n",
      "tf.Tensor(2, shape=(), dtype=int32)\n",
      "no truth data found\n",
      "no truth data found\n",
      "validation loss = 686.90771484375\n",
      "[-0.03184964  0.27860183]\n",
      "63.31245158692538\n",
      "jaccard index 0.13 rmse 24.03 fp 2386.00 fn 551.00\n",
      "tf.Tensor(2, shape=(), dtype=int32)\n",
      "no truth data found\n",
      "no truth data found\n",
      "validation loss = 675.7529296875\n",
      "[0.0680129  0.25840655]\n",
      "59.24998973763945\n",
      "jaccard index 0.17 rmse 24.31 fp 2096.00 fn 466.00\n",
      "tf.Tensor(2, shape=(), dtype=int32)\n",
      "no truth data found\n",
      "Saved checkpoint for step 120: /content/CSrecon/trainings/cs_u/_final2_training_100_gpu_data/ckpt-12\n",
      "loss 428.17\n",
      "no truth data found\n",
      "validation loss = 487.930908203125\n",
      "[-0.06599656  0.11298449]\n",
      "63.521327286876236\n",
      "jaccard index 0.19 rmse 23.06 fp 1582.00 fn 495.00\n",
      "tf.Tensor(2, shape=(), dtype=int32)\n",
      "no truth data found\n",
      "no truth data found\n",
      "validation loss = 470.7352294921875\n",
      "[0.07425059 0.21128428]\n",
      "59.60316443578712\n",
      "jaccard index 0.23 rmse 24.23 fp 1382.00 fn 435.00\n",
      "tf.Tensor(2, shape=(), dtype=int32)\n",
      "no truth data found\n",
      "no truth data found\n",
      "validation loss = 414.8975830078125\n",
      "[-0.02535217  0.16022941]\n",
      "66.41367638665695\n",
      "jaccard index 0.22 rmse 22.68 fp 1389.00 fn 472.00\n",
      "tf.Tensor(2, shape=(), dtype=int32)\n",
      "no truth data found\n",
      "Saved checkpoint for step 130: /content/CSrecon/trainings/cs_u/_final2_training_100_gpu_data/ckpt-13\n",
      "loss 460.98\n",
      "no truth data found\n",
      "validation loss = 270.286376953125\n",
      "[0.05534537 0.31079358]\n",
      "59.31022394302491\n",
      "jaccard index 0.28 rmse 24.00 fp 1275.00 fn 364.00\n",
      "tf.Tensor(2, shape=(), dtype=int32)\n",
      "no truth data found\n",
      "no truth data found\n",
      "validation loss = 256.619140625\n",
      "[-0.05246037  0.25724065]\n",
      "65.2058420466357\n",
      "jaccard index 0.24 rmse 22.03 fp 1209.00 fn 460.00\n",
      "tf.Tensor(2, shape=(), dtype=int32)\n",
      "no truth data found\n",
      "no truth data found\n",
      "validation loss = 167.2467041015625\n",
      "[-0.02417351  0.26697442]\n",
      "66.744611713289\n",
      "jaccard index 0.28 rmse 20.83 fp 1059.00 fn 418.00\n",
      "tf.Tensor(2, shape=(), dtype=int32)\n",
      "no truth data found\n",
      "no truth data found\n",
      "validation loss = 53.08154296875\n",
      "[0.04240238 0.23463568]\n",
      "65.38724932607613\n",
      "jaccard index 0.32 rmse 21.27 fp 924.00 fn 379.00\n",
      "tf.Tensor(2, shape=(), dtype=int32)\n",
      "no truth data found\n",
      "Saved checkpoint for step 140: /content/CSrecon/trainings/cs_u/_final2_training_100_gpu_data/ckpt-14\n",
      "loss 274.10\n",
      "no truth data found\n",
      "validation loss = 156.179931640625\n",
      "[0.15988342 0.1698596 ]\n",
      "63.346366331571105\n",
      "jaccard index 0.37 rmse 21.98 fp 812.00 fn 328.00\n",
      "tf.Tensor(2, shape=(), dtype=int32)\n",
      "no truth data found\n",
      "no truth data found\n"
     ]
    },
    {
     "output_type": "error",
     "ename": "KeyboardInterrupt",
     "evalue": "ignored",
     "traceback": [
      "\u001B[0;31m---------------------------------------------------------------------------\u001B[0m",
      "\u001B[0;31mKeyboardInterrupt\u001B[0m                         Traceback (most recent call last)",
      "\u001B[0;32m<ipython-input-7-78e2c24e4daa>\u001B[0m in \u001B[0;36m<module>\u001B[0;34m()\u001B[0m\n\u001B[1;32m      3\u001B[0m \u001B[0mtraining\u001B[0m \u001B[0;34m=\u001B[0m \u001B[0mResUNetFacade\u001B[0m\u001B[0;34m(\u001B[0m\u001B[0;34m)\u001B[0m\u001B[0;34m\u001B[0m\u001B[0;34m\u001B[0m\u001B[0m\n\u001B[1;32m      4\u001B[0m \u001B[0mtraining\u001B[0m\u001B[0;34m.\u001B[0m\u001B[0mdataset_path\u001B[0m \u001B[0;34m=\u001B[0m \u001B[0;34mr\"/example_path\"\u001B[0m\u001B[0;34m\u001B[0m\u001B[0;34m\u001B[0m\u001B[0m\n\u001B[0;32m----> 5\u001B[0;31m \u001B[0mtraining\u001B[0m\u001B[0;34m.\u001B[0m\u001B[0mtrain_saved_data\u001B[0m\u001B[0;34m(\u001B[0m\u001B[0;34m)\u001B[0m\u001B[0;34m\u001B[0m\u001B[0;34m\u001B[0m\u001B[0m\n\u001B[0m",
      "\u001B[0;32m/content/CSrecon/src/facade.py\u001B[0m in \u001B[0;36mtrain_saved_data\u001B[0;34m(self)\u001B[0m\n\u001B[1;32m    104\u001B[0m         \u001B[0;32mfor\u001B[0m \u001B[0mj\u001B[0m \u001B[0;32min\u001B[0m \u001B[0mrange\u001B[0m\u001B[0;34m(\u001B[0m\u001B[0mself\u001B[0m\u001B[0;34m.\u001B[0m\u001B[0mtrain_loops\u001B[0m\u001B[0;34m)\u001B[0m\u001B[0;34m:\u001B[0m\u001B[0;34m\u001B[0m\u001B[0;34m\u001B[0m\u001B[0m\n\u001B[1;32m    105\u001B[0m             \u001B[0mprint\u001B[0m\u001B[0;34m(\u001B[0m\u001B[0mself\u001B[0m\u001B[0;34m.\u001B[0m\u001B[0mckpt\u001B[0m\u001B[0;34m.\u001B[0m\u001B[0mstep\u001B[0m\u001B[0;34m//\u001B[0m\u001B[0;36m50\u001B[0m\u001B[0;34m)\u001B[0m\u001B[0;34m\u001B[0m\u001B[0;34m\u001B[0m\u001B[0m\n\u001B[0;32m--> 106\u001B[0;31m             \u001B[0mself\u001B[0m\u001B[0;34m.\u001B[0m\u001B[0mloop_d\u001B[0m\u001B[0;34m(\u001B[0m\u001B[0mdataset\u001B[0m\u001B[0;34m)\u001B[0m\u001B[0;34m\u001B[0m\u001B[0;34m\u001B[0m\u001B[0m\n\u001B[0m\u001B[1;32m    107\u001B[0m         \u001B[0;32mwith\u001B[0m \u001B[0mopen\u001B[0m\u001B[0;34m(\u001B[0m\u001B[0mself\u001B[0m\u001B[0;34m.\u001B[0m\u001B[0m_training_path\u001B[0m \u001B[0;34m+\u001B[0m\u001B[0;34m\"/parameters.txt\"\u001B[0m\u001B[0;34m,\u001B[0m \u001B[0;34m\"w\"\u001B[0m\u001B[0;34m)\u001B[0m \u001B[0;32mas\u001B[0m \u001B[0mtext_file\u001B[0m\u001B[0;34m:\u001B[0m\u001B[0;34m\u001B[0m\u001B[0;34m\u001B[0m\u001B[0m\n\u001B[1;32m    108\u001B[0m             \u001B[0mtext_file\u001B[0m\u001B[0;34m.\u001B[0m\u001B[0mwrite\u001B[0m\u001B[0;34m(\u001B[0m\u001B[0;34m\"dataset: \"\u001B[0m \u001B[0;34m+\u001B[0m \u001B[0mself\u001B[0m\u001B[0;34m.\u001B[0m\u001B[0mdataset_path\u001B[0m\u001B[0;34m+\u001B[0m \u001B[0;34m\"\\n\"\u001B[0m\u001B[0;34m)\u001B[0m\u001B[0;34m\u001B[0m\u001B[0;34m\u001B[0m\u001B[0m\n",
      "\u001B[0;32m/content/CSrecon/src/facade.py\u001B[0m in \u001B[0;36mloop_d\u001B[0;34m(self, dataset, save)\u001B[0m\n\u001B[1;32m     78\u001B[0m             \u001B[0;32mif\u001B[0m \u001B[0mi\u001B[0m\u001B[0;34m%\u001B[0m\u001B[0;36m4\u001B[0m \u001B[0;34m==\u001B[0m\u001B[0;36m0\u001B[0m\u001B[0;34m:\u001B[0m\u001B[0;34m\u001B[0m\u001B[0;34m\u001B[0m\u001B[0m\n\u001B[1;32m     79\u001B[0m                 \u001B[0;31m#train_image,noiseless_gt, coords,t = iterator.get_next()\u001B[0m\u001B[0;34m\u001B[0m\u001B[0;34m\u001B[0m\u001B[0;34m\u001B[0m\u001B[0m\n\u001B[0;32m---> 80\u001B[0;31m                 \u001B[0mpred\u001B[0m \u001B[0;34m=\u001B[0m \u001B[0mself\u001B[0m\u001B[0;34m.\u001B[0m\u001B[0mnetwork\u001B[0m\u001B[0;34m(\u001B[0m\u001B[0mtrain_image\u001B[0m\u001B[0;34m,\u001B[0m \u001B[0mtraining\u001B[0m\u001B[0;34m=\u001B[0m\u001B[0;32mFalse\u001B[0m\u001B[0;34m)\u001B[0m\u001B[0;34m\u001B[0m\u001B[0;34m\u001B[0m\u001B[0m\n\u001B[0m\u001B[1;32m     81\u001B[0m                 \u001B[0mvloss\u001B[0m \u001B[0;34m=\u001B[0m \u001B[0mcompute_loss_decode_ncs\u001B[0m\u001B[0;34m(\u001B[0m\u001B[0mcoords\u001B[0m\u001B[0;34m,\u001B[0m \u001B[0mpred\u001B[0m\u001B[0;34m)\u001B[0m\u001B[0;34m\u001B[0m\u001B[0;34m\u001B[0m\u001B[0m\n\u001B[1;32m     82\u001B[0m                 \u001B[0mprint\u001B[0m\u001B[0;34m(\u001B[0m\u001B[0;34mf\"validation loss = {vloss}\"\u001B[0m \u001B[0;34m)\u001B[0m\u001B[0;34m\u001B[0m\u001B[0;34m\u001B[0m\u001B[0m\n",
      "\u001B[0;32m/content/CSrecon/src/models/cs_model.py\u001B[0m in \u001B[0;36m__call__\u001B[0;34m(self, inputs, training)\u001B[0m\n\u001B[1;32m    270\u001B[0m \u001B[0;34m\u001B[0m\u001B[0m\n\u001B[1;32m    271\u001B[0m     \u001B[0;32mdef\u001B[0m \u001B[0m__call__\u001B[0m\u001B[0;34m(\u001B[0m\u001B[0mself\u001B[0m\u001B[0;34m,\u001B[0m \u001B[0minputs\u001B[0m\u001B[0;34m,\u001B[0m \u001B[0mtraining\u001B[0m\u001B[0;34m=\u001B[0m\u001B[0;32mFalse\u001B[0m\u001B[0;34m)\u001B[0m\u001B[0;34m:\u001B[0m\u001B[0;34m\u001B[0m\u001B[0;34m\u001B[0m\u001B[0m\n\u001B[0;32m--> 272\u001B[0;31m         \u001B[0mx\u001B[0m \u001B[0;34m=\u001B[0m \u001B[0mself\u001B[0m\u001B[0;34m.\u001B[0m\u001B[0minitial_layer\u001B[0m\u001B[0;34m(\u001B[0m\u001B[0minputs\u001B[0m\u001B[0;34m)\u001B[0m\u001B[0;34m\u001B[0m\u001B[0;34m\u001B[0m\u001B[0m\n\u001B[0m\u001B[1;32m    273\u001B[0m         \u001B[0mx_zero\u001B[0m \u001B[0;34m=\u001B[0m \u001B[0mself\u001B[0m\u001B[0;34m.\u001B[0m\u001B[0mactivation\u001B[0m\u001B[0;34m(\u001B[0m\u001B[0mx\u001B[0m\u001B[0;34m)\u001B[0m\u001B[0;34m\u001B[0m\u001B[0;34m\u001B[0m\u001B[0m\n\u001B[1;32m    274\u001B[0m         \u001B[0mx\u001B[0m \u001B[0;34m=\u001B[0m \u001B[0mx_zero\u001B[0m\u001B[0;34m\u001B[0m\u001B[0;34m\u001B[0m\u001B[0m\n",
      "\u001B[0;32m/content/CSrecon/src/custom_layers/cs_layers.py\u001B[0m in \u001B[0;36m__call__\u001B[0;34m(self, inp)\u001B[0m\n\u001B[1;32m    234\u001B[0m     \u001B[0;32mdef\u001B[0m \u001B[0m__call__\u001B[0m\u001B[0;34m(\u001B[0m\u001B[0mself\u001B[0m\u001B[0;34m,\u001B[0m \u001B[0minp\u001B[0m\u001B[0;34m)\u001B[0m\u001B[0;34m:\u001B[0m\u001B[0;34m\u001B[0m\u001B[0;34m\u001B[0m\u001B[0m\n\u001B[1;32m    235\u001B[0m         \u001B[0mskip\u001B[0m \u001B[0;34m=\u001B[0m \u001B[0;34m[\u001B[0m\u001B[0;34m]\u001B[0m\u001B[0;34m\u001B[0m\u001B[0;34m\u001B[0m\u001B[0m\n\u001B[0;32m--> 236\u001B[0;31m         \u001B[0minp\u001B[0m \u001B[0;34m=\u001B[0m \u001B[0mself\u001B[0m\u001B[0;34m.\u001B[0m\u001B[0mdown_path\u001B[0m\u001B[0;34m[\u001B[0m\u001B[0;36m0\u001B[0m\u001B[0;34m]\u001B[0m\u001B[0;34m(\u001B[0m\u001B[0minp\u001B[0m\u001B[0;34m)\u001B[0m\u001B[0;34m\u001B[0m\u001B[0;34m\u001B[0m\u001B[0m\n\u001B[0m\u001B[1;32m    237\u001B[0m         \u001B[0mskip\u001B[0m\u001B[0;34m.\u001B[0m\u001B[0mappend\u001B[0m\u001B[0;34m(\u001B[0m\u001B[0minp\u001B[0m\u001B[0;34m)\u001B[0m\u001B[0;34m\u001B[0m\u001B[0;34m\u001B[0m\u001B[0m\n\u001B[1;32m    238\u001B[0m         \u001B[0minp\u001B[0m \u001B[0;34m=\u001B[0m \u001B[0mself\u001B[0m\u001B[0;34m.\u001B[0m\u001B[0mdown_path\u001B[0m\u001B[0;34m[\u001B[0m\u001B[0;36m1\u001B[0m\u001B[0;34m]\u001B[0m\u001B[0;34m(\u001B[0m\u001B[0minp\u001B[0m\u001B[0;34m)\u001B[0m\u001B[0;34m\u001B[0m\u001B[0;34m\u001B[0m\u001B[0m\n",
      "\u001B[0;32m/usr/local/lib/python3.7/dist-packages/keras/utils/traceback_utils.py\u001B[0m in \u001B[0;36merror_handler\u001B[0;34m(*args, **kwargs)\u001B[0m\n\u001B[1;32m     62\u001B[0m     \u001B[0mfiltered_tb\u001B[0m \u001B[0;34m=\u001B[0m \u001B[0;32mNone\u001B[0m\u001B[0;34m\u001B[0m\u001B[0;34m\u001B[0m\u001B[0m\n\u001B[1;32m     63\u001B[0m     \u001B[0;32mtry\u001B[0m\u001B[0;34m:\u001B[0m\u001B[0;34m\u001B[0m\u001B[0;34m\u001B[0m\u001B[0m\n\u001B[0;32m---> 64\u001B[0;31m       \u001B[0;32mreturn\u001B[0m \u001B[0mfn\u001B[0m\u001B[0;34m(\u001B[0m\u001B[0;34m*\u001B[0m\u001B[0margs\u001B[0m\u001B[0;34m,\u001B[0m \u001B[0;34m**\u001B[0m\u001B[0mkwargs\u001B[0m\u001B[0;34m)\u001B[0m\u001B[0;34m\u001B[0m\u001B[0;34m\u001B[0m\u001B[0m\n\u001B[0m\u001B[1;32m     65\u001B[0m     \u001B[0;32mexcept\u001B[0m \u001B[0mException\u001B[0m \u001B[0;32mas\u001B[0m \u001B[0me\u001B[0m\u001B[0;34m:\u001B[0m  \u001B[0;31m# pylint: disable=broad-except\u001B[0m\u001B[0;34m\u001B[0m\u001B[0;34m\u001B[0m\u001B[0m\n\u001B[1;32m     66\u001B[0m       \u001B[0mfiltered_tb\u001B[0m \u001B[0;34m=\u001B[0m \u001B[0m_process_traceback_frames\u001B[0m\u001B[0;34m(\u001B[0m\u001B[0me\u001B[0m\u001B[0;34m.\u001B[0m\u001B[0m__traceback__\u001B[0m\u001B[0;34m)\u001B[0m\u001B[0;34m\u001B[0m\u001B[0;34m\u001B[0m\u001B[0m\n",
      "\u001B[0;32m/usr/local/lib/python3.7/dist-packages/keras/engine/base_layer.py\u001B[0m in \u001B[0;36m__call__\u001B[0;34m(self, *args, **kwargs)\u001B[0m\n\u001B[1;32m   1094\u001B[0m         with autocast_variable.enable_auto_cast_variables(\n\u001B[1;32m   1095\u001B[0m             self._compute_dtype_object):\n\u001B[0;32m-> 1096\u001B[0;31m           \u001B[0moutputs\u001B[0m \u001B[0;34m=\u001B[0m \u001B[0mcall_fn\u001B[0m\u001B[0;34m(\u001B[0m\u001B[0minputs\u001B[0m\u001B[0;34m,\u001B[0m \u001B[0;34m*\u001B[0m\u001B[0margs\u001B[0m\u001B[0;34m,\u001B[0m \u001B[0;34m**\u001B[0m\u001B[0mkwargs\u001B[0m\u001B[0;34m)\u001B[0m\u001B[0;34m\u001B[0m\u001B[0;34m\u001B[0m\u001B[0m\n\u001B[0m\u001B[1;32m   1097\u001B[0m \u001B[0;34m\u001B[0m\u001B[0m\n\u001B[1;32m   1098\u001B[0m         \u001B[0;32mif\u001B[0m \u001B[0mself\u001B[0m\u001B[0;34m.\u001B[0m\u001B[0m_activity_regularizer\u001B[0m\u001B[0;34m:\u001B[0m\u001B[0;34m\u001B[0m\u001B[0;34m\u001B[0m\u001B[0m\n",
      "\u001B[0;32m/usr/local/lib/python3.7/dist-packages/keras/utils/traceback_utils.py\u001B[0m in \u001B[0;36merror_handler\u001B[0;34m(*args, **kwargs)\u001B[0m\n\u001B[1;32m     90\u001B[0m     \u001B[0mbound_signature\u001B[0m \u001B[0;34m=\u001B[0m \u001B[0;32mNone\u001B[0m\u001B[0;34m\u001B[0m\u001B[0;34m\u001B[0m\u001B[0m\n\u001B[1;32m     91\u001B[0m     \u001B[0;32mtry\u001B[0m\u001B[0;34m:\u001B[0m\u001B[0;34m\u001B[0m\u001B[0;34m\u001B[0m\u001B[0m\n\u001B[0;32m---> 92\u001B[0;31m       \u001B[0;32mreturn\u001B[0m \u001B[0mfn\u001B[0m\u001B[0;34m(\u001B[0m\u001B[0;34m*\u001B[0m\u001B[0margs\u001B[0m\u001B[0;34m,\u001B[0m \u001B[0;34m**\u001B[0m\u001B[0mkwargs\u001B[0m\u001B[0;34m)\u001B[0m\u001B[0;34m\u001B[0m\u001B[0;34m\u001B[0m\u001B[0m\n\u001B[0m\u001B[1;32m     93\u001B[0m     \u001B[0;32mexcept\u001B[0m \u001B[0mException\u001B[0m \u001B[0;32mas\u001B[0m \u001B[0me\u001B[0m\u001B[0;34m:\u001B[0m  \u001B[0;31m# pylint: disable=broad-except\u001B[0m\u001B[0;34m\u001B[0m\u001B[0;34m\u001B[0m\u001B[0m\n\u001B[1;32m     94\u001B[0m       \u001B[0;32mif\u001B[0m \u001B[0mhasattr\u001B[0m\u001B[0;34m(\u001B[0m\u001B[0me\u001B[0m\u001B[0;34m,\u001B[0m \u001B[0;34m'_keras_call_info_injected'\u001B[0m\u001B[0;34m)\u001B[0m\u001B[0;34m:\u001B[0m\u001B[0;34m\u001B[0m\u001B[0;34m\u001B[0m\u001B[0m\n",
      "\u001B[0;32m/usr/local/lib/python3.7/dist-packages/keras/engine/sequential.py\u001B[0m in \u001B[0;36mcall\u001B[0;34m(self, inputs, training, mask)\u001B[0m\n\u001B[1;32m    372\u001B[0m       \u001B[0;32mif\u001B[0m \u001B[0;32mnot\u001B[0m \u001B[0mself\u001B[0m\u001B[0;34m.\u001B[0m\u001B[0mbuilt\u001B[0m\u001B[0;34m:\u001B[0m\u001B[0;34m\u001B[0m\u001B[0;34m\u001B[0m\u001B[0m\n\u001B[1;32m    373\u001B[0m         \u001B[0mself\u001B[0m\u001B[0;34m.\u001B[0m\u001B[0m_init_graph_network\u001B[0m\u001B[0;34m(\u001B[0m\u001B[0mself\u001B[0m\u001B[0;34m.\u001B[0m\u001B[0minputs\u001B[0m\u001B[0;34m,\u001B[0m \u001B[0mself\u001B[0m\u001B[0;34m.\u001B[0m\u001B[0moutputs\u001B[0m\u001B[0;34m)\u001B[0m\u001B[0;34m\u001B[0m\u001B[0;34m\u001B[0m\u001B[0m\n\u001B[0;32m--> 374\u001B[0;31m       \u001B[0;32mreturn\u001B[0m \u001B[0msuper\u001B[0m\u001B[0;34m(\u001B[0m\u001B[0mSequential\u001B[0m\u001B[0;34m,\u001B[0m \u001B[0mself\u001B[0m\u001B[0;34m)\u001B[0m\u001B[0;34m.\u001B[0m\u001B[0mcall\u001B[0m\u001B[0;34m(\u001B[0m\u001B[0minputs\u001B[0m\u001B[0;34m,\u001B[0m \u001B[0mtraining\u001B[0m\u001B[0;34m=\u001B[0m\u001B[0mtraining\u001B[0m\u001B[0;34m,\u001B[0m \u001B[0mmask\u001B[0m\u001B[0;34m=\u001B[0m\u001B[0mmask\u001B[0m\u001B[0;34m)\u001B[0m\u001B[0;34m\u001B[0m\u001B[0;34m\u001B[0m\u001B[0m\n\u001B[0m\u001B[1;32m    375\u001B[0m \u001B[0;34m\u001B[0m\u001B[0m\n\u001B[1;32m    376\u001B[0m     \u001B[0moutputs\u001B[0m \u001B[0;34m=\u001B[0m \u001B[0minputs\u001B[0m  \u001B[0;31m# handle the corner case where self.layers is empty\u001B[0m\u001B[0;34m\u001B[0m\u001B[0;34m\u001B[0m\u001B[0m\n",
      "\u001B[0;32m/usr/local/lib/python3.7/dist-packages/keras/engine/functional.py\u001B[0m in \u001B[0;36mcall\u001B[0;34m(self, inputs, training, mask)\u001B[0m\n\u001B[1;32m    450\u001B[0m     \"\"\"\n\u001B[1;32m    451\u001B[0m     return self._run_internal_graph(\n\u001B[0;32m--> 452\u001B[0;31m         inputs, training=training, mask=mask)\n\u001B[0m\u001B[1;32m    453\u001B[0m \u001B[0;34m\u001B[0m\u001B[0m\n\u001B[1;32m    454\u001B[0m   \u001B[0;32mdef\u001B[0m \u001B[0mcompute_output_shape\u001B[0m\u001B[0;34m(\u001B[0m\u001B[0mself\u001B[0m\u001B[0;34m,\u001B[0m \u001B[0minput_shape\u001B[0m\u001B[0;34m)\u001B[0m\u001B[0;34m:\u001B[0m\u001B[0;34m\u001B[0m\u001B[0;34m\u001B[0m\u001B[0m\n",
      "\u001B[0;32m/usr/local/lib/python3.7/dist-packages/keras/engine/functional.py\u001B[0m in \u001B[0;36m_run_internal_graph\u001B[0;34m(self, inputs, training, mask)\u001B[0m\n\u001B[1;32m    587\u001B[0m \u001B[0;34m\u001B[0m\u001B[0m\n\u001B[1;32m    588\u001B[0m         \u001B[0margs\u001B[0m\u001B[0;34m,\u001B[0m \u001B[0mkwargs\u001B[0m \u001B[0;34m=\u001B[0m \u001B[0mnode\u001B[0m\u001B[0;34m.\u001B[0m\u001B[0mmap_arguments\u001B[0m\u001B[0;34m(\u001B[0m\u001B[0mtensor_dict\u001B[0m\u001B[0;34m)\u001B[0m\u001B[0;34m\u001B[0m\u001B[0;34m\u001B[0m\u001B[0m\n\u001B[0;32m--> 589\u001B[0;31m         \u001B[0moutputs\u001B[0m \u001B[0;34m=\u001B[0m \u001B[0mnode\u001B[0m\u001B[0;34m.\u001B[0m\u001B[0mlayer\u001B[0m\u001B[0;34m(\u001B[0m\u001B[0;34m*\u001B[0m\u001B[0margs\u001B[0m\u001B[0;34m,\u001B[0m \u001B[0;34m**\u001B[0m\u001B[0mkwargs\u001B[0m\u001B[0;34m)\u001B[0m\u001B[0;34m\u001B[0m\u001B[0;34m\u001B[0m\u001B[0m\n\u001B[0m\u001B[1;32m    590\u001B[0m \u001B[0;34m\u001B[0m\u001B[0m\n\u001B[1;32m    591\u001B[0m         \u001B[0;31m# Update tensor_dict.\u001B[0m\u001B[0;34m\u001B[0m\u001B[0;34m\u001B[0m\u001B[0;34m\u001B[0m\u001B[0m\n",
      "\u001B[0;32m/usr/local/lib/python3.7/dist-packages/keras/utils/traceback_utils.py\u001B[0m in \u001B[0;36merror_handler\u001B[0;34m(*args, **kwargs)\u001B[0m\n\u001B[1;32m     62\u001B[0m     \u001B[0mfiltered_tb\u001B[0m \u001B[0;34m=\u001B[0m \u001B[0;32mNone\u001B[0m\u001B[0;34m\u001B[0m\u001B[0;34m\u001B[0m\u001B[0m\n\u001B[1;32m     63\u001B[0m     \u001B[0;32mtry\u001B[0m\u001B[0;34m:\u001B[0m\u001B[0;34m\u001B[0m\u001B[0;34m\u001B[0m\u001B[0m\n\u001B[0;32m---> 64\u001B[0;31m       \u001B[0;32mreturn\u001B[0m \u001B[0mfn\u001B[0m\u001B[0;34m(\u001B[0m\u001B[0;34m*\u001B[0m\u001B[0margs\u001B[0m\u001B[0;34m,\u001B[0m \u001B[0;34m**\u001B[0m\u001B[0mkwargs\u001B[0m\u001B[0;34m)\u001B[0m\u001B[0;34m\u001B[0m\u001B[0;34m\u001B[0m\u001B[0m\n\u001B[0m\u001B[1;32m     65\u001B[0m     \u001B[0;32mexcept\u001B[0m \u001B[0mException\u001B[0m \u001B[0;32mas\u001B[0m \u001B[0me\u001B[0m\u001B[0;34m:\u001B[0m  \u001B[0;31m# pylint: disable=broad-except\u001B[0m\u001B[0;34m\u001B[0m\u001B[0;34m\u001B[0m\u001B[0m\n\u001B[1;32m     66\u001B[0m       \u001B[0mfiltered_tb\u001B[0m \u001B[0;34m=\u001B[0m \u001B[0m_process_traceback_frames\u001B[0m\u001B[0;34m(\u001B[0m\u001B[0me\u001B[0m\u001B[0;34m.\u001B[0m\u001B[0m__traceback__\u001B[0m\u001B[0;34m)\u001B[0m\u001B[0;34m\u001B[0m\u001B[0;34m\u001B[0m\u001B[0m\n",
      "\u001B[0;32m/usr/local/lib/python3.7/dist-packages/keras/engine/base_layer.py\u001B[0m in \u001B[0;36m__call__\u001B[0;34m(self, *args, **kwargs)\u001B[0m\n\u001B[1;32m   1094\u001B[0m         with autocast_variable.enable_auto_cast_variables(\n\u001B[1;32m   1095\u001B[0m             self._compute_dtype_object):\n\u001B[0;32m-> 1096\u001B[0;31m           \u001B[0moutputs\u001B[0m \u001B[0;34m=\u001B[0m \u001B[0mcall_fn\u001B[0m\u001B[0;34m(\u001B[0m\u001B[0minputs\u001B[0m\u001B[0;34m,\u001B[0m \u001B[0;34m*\u001B[0m\u001B[0margs\u001B[0m\u001B[0;34m,\u001B[0m \u001B[0;34m**\u001B[0m\u001B[0mkwargs\u001B[0m\u001B[0;34m)\u001B[0m\u001B[0;34m\u001B[0m\u001B[0;34m\u001B[0m\u001B[0m\n\u001B[0m\u001B[1;32m   1097\u001B[0m \u001B[0;34m\u001B[0m\u001B[0m\n\u001B[1;32m   1098\u001B[0m         \u001B[0;32mif\u001B[0m \u001B[0mself\u001B[0m\u001B[0;34m.\u001B[0m\u001B[0m_activity_regularizer\u001B[0m\u001B[0;34m:\u001B[0m\u001B[0;34m\u001B[0m\u001B[0;34m\u001B[0m\u001B[0m\n",
      "\u001B[0;32m/usr/local/lib/python3.7/dist-packages/keras/utils/traceback_utils.py\u001B[0m in \u001B[0;36merror_handler\u001B[0;34m(*args, **kwargs)\u001B[0m\n\u001B[1;32m     90\u001B[0m     \u001B[0mbound_signature\u001B[0m \u001B[0;34m=\u001B[0m \u001B[0;32mNone\u001B[0m\u001B[0;34m\u001B[0m\u001B[0;34m\u001B[0m\u001B[0m\n\u001B[1;32m     91\u001B[0m     \u001B[0;32mtry\u001B[0m\u001B[0;34m:\u001B[0m\u001B[0;34m\u001B[0m\u001B[0;34m\u001B[0m\u001B[0m\n\u001B[0;32m---> 92\u001B[0;31m       \u001B[0;32mreturn\u001B[0m \u001B[0mfn\u001B[0m\u001B[0;34m(\u001B[0m\u001B[0;34m*\u001B[0m\u001B[0margs\u001B[0m\u001B[0;34m,\u001B[0m \u001B[0;34m**\u001B[0m\u001B[0mkwargs\u001B[0m\u001B[0;34m)\u001B[0m\u001B[0;34m\u001B[0m\u001B[0;34m\u001B[0m\u001B[0m\n\u001B[0m\u001B[1;32m     93\u001B[0m     \u001B[0;32mexcept\u001B[0m \u001B[0mException\u001B[0m \u001B[0;32mas\u001B[0m \u001B[0me\u001B[0m\u001B[0;34m:\u001B[0m  \u001B[0;31m# pylint: disable=broad-except\u001B[0m\u001B[0;34m\u001B[0m\u001B[0;34m\u001B[0m\u001B[0m\n\u001B[1;32m     94\u001B[0m       \u001B[0;32mif\u001B[0m \u001B[0mhasattr\u001B[0m\u001B[0;34m(\u001B[0m\u001B[0me\u001B[0m\u001B[0;34m,\u001B[0m \u001B[0;34m'_keras_call_info_injected'\u001B[0m\u001B[0;34m)\u001B[0m\u001B[0;34m:\u001B[0m\u001B[0;34m\u001B[0m\u001B[0;34m\u001B[0m\u001B[0m\n",
      "\u001B[0;32m/usr/local/lib/python3.7/dist-packages/keras/layers/convolutional.py\u001B[0m in \u001B[0;36mcall\u001B[0;34m(self, inputs)\u001B[0m\n\u001B[1;32m    246\u001B[0m       \u001B[0minputs\u001B[0m \u001B[0;34m=\u001B[0m \u001B[0mtf\u001B[0m\u001B[0;34m.\u001B[0m\u001B[0mpad\u001B[0m\u001B[0;34m(\u001B[0m\u001B[0minputs\u001B[0m\u001B[0;34m,\u001B[0m \u001B[0mself\u001B[0m\u001B[0;34m.\u001B[0m\u001B[0m_compute_causal_padding\u001B[0m\u001B[0;34m(\u001B[0m\u001B[0minputs\u001B[0m\u001B[0;34m)\u001B[0m\u001B[0;34m)\u001B[0m\u001B[0;34m\u001B[0m\u001B[0;34m\u001B[0m\u001B[0m\n\u001B[1;32m    247\u001B[0m \u001B[0;34m\u001B[0m\u001B[0m\n\u001B[0;32m--> 248\u001B[0;31m     \u001B[0moutputs\u001B[0m \u001B[0;34m=\u001B[0m \u001B[0mself\u001B[0m\u001B[0;34m.\u001B[0m\u001B[0mconvolution_op\u001B[0m\u001B[0;34m(\u001B[0m\u001B[0minputs\u001B[0m\u001B[0;34m,\u001B[0m \u001B[0mself\u001B[0m\u001B[0;34m.\u001B[0m\u001B[0mkernel\u001B[0m\u001B[0;34m)\u001B[0m\u001B[0;34m\u001B[0m\u001B[0;34m\u001B[0m\u001B[0m\n\u001B[0m\u001B[1;32m    249\u001B[0m \u001B[0;34m\u001B[0m\u001B[0m\n\u001B[1;32m    250\u001B[0m     \u001B[0;32mif\u001B[0m \u001B[0mself\u001B[0m\u001B[0;34m.\u001B[0m\u001B[0muse_bias\u001B[0m\u001B[0;34m:\u001B[0m\u001B[0;34m\u001B[0m\u001B[0;34m\u001B[0m\u001B[0m\n",
      "\u001B[0;32m/usr/local/lib/python3.7/dist-packages/keras/layers/convolutional.py\u001B[0m in \u001B[0;36mconvolution_op\u001B[0;34m(self, inputs, kernel)\u001B[0m\n\u001B[1;32m    238\u001B[0m         \u001B[0mdilations\u001B[0m\u001B[0;34m=\u001B[0m\u001B[0mlist\u001B[0m\u001B[0;34m(\u001B[0m\u001B[0mself\u001B[0m\u001B[0;34m.\u001B[0m\u001B[0mdilation_rate\u001B[0m\u001B[0;34m)\u001B[0m\u001B[0;34m,\u001B[0m\u001B[0;34m\u001B[0m\u001B[0;34m\u001B[0m\u001B[0m\n\u001B[1;32m    239\u001B[0m         \u001B[0mdata_format\u001B[0m\u001B[0;34m=\u001B[0m\u001B[0mself\u001B[0m\u001B[0;34m.\u001B[0m\u001B[0m_tf_data_format\u001B[0m\u001B[0;34m,\u001B[0m\u001B[0;34m\u001B[0m\u001B[0;34m\u001B[0m\u001B[0m\n\u001B[0;32m--> 240\u001B[0;31m         name=self.__class__.__name__)\n\u001B[0m\u001B[1;32m    241\u001B[0m \u001B[0;34m\u001B[0m\u001B[0m\n\u001B[1;32m    242\u001B[0m   \u001B[0;32mdef\u001B[0m \u001B[0mcall\u001B[0m\u001B[0;34m(\u001B[0m\u001B[0mself\u001B[0m\u001B[0;34m,\u001B[0m \u001B[0minputs\u001B[0m\u001B[0;34m)\u001B[0m\u001B[0;34m:\u001B[0m\u001B[0;34m\u001B[0m\u001B[0;34m\u001B[0m\u001B[0m\n",
      "\u001B[0;32m/usr/local/lib/python3.7/dist-packages/tensorflow/python/util/traceback_utils.py\u001B[0m in \u001B[0;36merror_handler\u001B[0;34m(*args, **kwargs)\u001B[0m\n\u001B[1;32m    148\u001B[0m     \u001B[0mfiltered_tb\u001B[0m \u001B[0;34m=\u001B[0m \u001B[0;32mNone\u001B[0m\u001B[0;34m\u001B[0m\u001B[0;34m\u001B[0m\u001B[0m\n\u001B[1;32m    149\u001B[0m     \u001B[0;32mtry\u001B[0m\u001B[0;34m:\u001B[0m\u001B[0;34m\u001B[0m\u001B[0;34m\u001B[0m\u001B[0m\n\u001B[0;32m--> 150\u001B[0;31m       \u001B[0;32mreturn\u001B[0m \u001B[0mfn\u001B[0m\u001B[0;34m(\u001B[0m\u001B[0;34m*\u001B[0m\u001B[0margs\u001B[0m\u001B[0;34m,\u001B[0m \u001B[0;34m**\u001B[0m\u001B[0mkwargs\u001B[0m\u001B[0;34m)\u001B[0m\u001B[0;34m\u001B[0m\u001B[0;34m\u001B[0m\u001B[0m\n\u001B[0m\u001B[1;32m    151\u001B[0m     \u001B[0;32mexcept\u001B[0m \u001B[0mException\u001B[0m \u001B[0;32mas\u001B[0m \u001B[0me\u001B[0m\u001B[0;34m:\u001B[0m\u001B[0;34m\u001B[0m\u001B[0;34m\u001B[0m\u001B[0m\n\u001B[1;32m    152\u001B[0m       \u001B[0mfiltered_tb\u001B[0m \u001B[0;34m=\u001B[0m \u001B[0m_process_traceback_frames\u001B[0m\u001B[0;34m(\u001B[0m\u001B[0me\u001B[0m\u001B[0;34m.\u001B[0m\u001B[0m__traceback__\u001B[0m\u001B[0;34m)\u001B[0m\u001B[0;34m\u001B[0m\u001B[0;34m\u001B[0m\u001B[0m\n",
      "\u001B[0;32m/usr/local/lib/python3.7/dist-packages/tensorflow/python/util/dispatch.py\u001B[0m in \u001B[0;36mop_dispatch_handler\u001B[0;34m(*args, **kwargs)\u001B[0m\n\u001B[1;32m   1080\u001B[0m       \u001B[0;31m# Fallback dispatch system (dispatch v1):\u001B[0m\u001B[0;34m\u001B[0m\u001B[0;34m\u001B[0m\u001B[0;34m\u001B[0m\u001B[0m\n\u001B[1;32m   1081\u001B[0m       \u001B[0;32mtry\u001B[0m\u001B[0;34m:\u001B[0m\u001B[0;34m\u001B[0m\u001B[0;34m\u001B[0m\u001B[0m\n\u001B[0;32m-> 1082\u001B[0;31m         \u001B[0;32mreturn\u001B[0m \u001B[0mdispatch_target\u001B[0m\u001B[0;34m(\u001B[0m\u001B[0;34m*\u001B[0m\u001B[0margs\u001B[0m\u001B[0;34m,\u001B[0m \u001B[0;34m**\u001B[0m\u001B[0mkwargs\u001B[0m\u001B[0;34m)\u001B[0m\u001B[0;34m\u001B[0m\u001B[0;34m\u001B[0m\u001B[0m\n\u001B[0m\u001B[1;32m   1083\u001B[0m       \u001B[0;32mexcept\u001B[0m \u001B[0;34m(\u001B[0m\u001B[0mTypeError\u001B[0m\u001B[0;34m,\u001B[0m \u001B[0mValueError\u001B[0m\u001B[0;34m)\u001B[0m\u001B[0;34m:\u001B[0m\u001B[0;34m\u001B[0m\u001B[0;34m\u001B[0m\u001B[0m\n\u001B[1;32m   1084\u001B[0m         \u001B[0;31m# Note: convert_to_eager_tensor currently raises a ValueError, not a\u001B[0m\u001B[0;34m\u001B[0m\u001B[0;34m\u001B[0m\u001B[0;34m\u001B[0m\u001B[0m\n",
      "\u001B[0;32m/usr/local/lib/python3.7/dist-packages/tensorflow/python/ops/nn_ops.py\u001B[0m in \u001B[0;36mconvolution_v2\u001B[0;34m(input, filters, strides, padding, data_format, dilations, name)\u001B[0m\n\u001B[1;32m   1153\u001B[0m       \u001B[0mdata_format\u001B[0m\u001B[0;34m=\u001B[0m\u001B[0mdata_format\u001B[0m\u001B[0;34m,\u001B[0m\u001B[0;34m\u001B[0m\u001B[0;34m\u001B[0m\u001B[0m\n\u001B[1;32m   1154\u001B[0m       \u001B[0mdilations\u001B[0m\u001B[0;34m=\u001B[0m\u001B[0mdilations\u001B[0m\u001B[0;34m,\u001B[0m\u001B[0;34m\u001B[0m\u001B[0;34m\u001B[0m\u001B[0m\n\u001B[0;32m-> 1155\u001B[0;31m       name=name)\n\u001B[0m\u001B[1;32m   1156\u001B[0m \u001B[0;34m\u001B[0m\u001B[0m\n\u001B[1;32m   1157\u001B[0m \u001B[0;34m\u001B[0m\u001B[0m\n",
      "\u001B[0;32m/usr/local/lib/python3.7/dist-packages/tensorflow/python/ops/nn_ops.py\u001B[0m in \u001B[0;36mconvolution_internal\u001B[0;34m(input, filters, strides, padding, data_format, dilations, name, call_from_convolution, num_spatial_dims)\u001B[0m\n\u001B[1;32m   1285\u001B[0m           \u001B[0mdata_format\u001B[0m\u001B[0;34m=\u001B[0m\u001B[0mdata_format\u001B[0m\u001B[0;34m,\u001B[0m\u001B[0;34m\u001B[0m\u001B[0;34m\u001B[0m\u001B[0m\n\u001B[1;32m   1286\u001B[0m           \u001B[0mdilations\u001B[0m\u001B[0;34m=\u001B[0m\u001B[0mdilations\u001B[0m\u001B[0;34m,\u001B[0m\u001B[0;34m\u001B[0m\u001B[0;34m\u001B[0m\u001B[0m\n\u001B[0;32m-> 1287\u001B[0;31m           name=name)\n\u001B[0m\u001B[1;32m   1288\u001B[0m     \u001B[0;32melse\u001B[0m\u001B[0;34m:\u001B[0m\u001B[0;34m\u001B[0m\u001B[0;34m\u001B[0m\u001B[0m\n\u001B[1;32m   1289\u001B[0m       \u001B[0;32mif\u001B[0m \u001B[0mchannel_index\u001B[0m \u001B[0;34m==\u001B[0m \u001B[0;36m1\u001B[0m\u001B[0;34m:\u001B[0m\u001B[0;34m\u001B[0m\u001B[0;34m\u001B[0m\u001B[0m\n",
      "\u001B[0;32m/usr/local/lib/python3.7/dist-packages/tensorflow/python/ops/nn_ops.py\u001B[0m in \u001B[0;36m_conv2d_expanded_batch\u001B[0;34m(input, filters, strides, padding, data_format, dilations, name)\u001B[0m\n\u001B[1;32m   2761\u001B[0m         \u001B[0mdata_format\u001B[0m\u001B[0;34m=\u001B[0m\u001B[0mdata_format\u001B[0m\u001B[0;34m,\u001B[0m\u001B[0;34m\u001B[0m\u001B[0;34m\u001B[0m\u001B[0m\n\u001B[1;32m   2762\u001B[0m         \u001B[0mdilations\u001B[0m\u001B[0;34m=\u001B[0m\u001B[0mdilations\u001B[0m\u001B[0;34m,\u001B[0m\u001B[0;34m\u001B[0m\u001B[0;34m\u001B[0m\u001B[0m\n\u001B[0;32m-> 2763\u001B[0;31m         name=name)\n\u001B[0m\u001B[1;32m   2764\u001B[0m   return squeeze_batch_dims(\n\u001B[1;32m   2765\u001B[0m       \u001B[0minput\u001B[0m\u001B[0;34m,\u001B[0m\u001B[0;34m\u001B[0m\u001B[0;34m\u001B[0m\u001B[0m\n",
      "\u001B[0;32m/usr/local/lib/python3.7/dist-packages/tensorflow/python/ops/gen_nn_ops.py\u001B[0m in \u001B[0;36mconv2d\u001B[0;34m(input, filter, strides, padding, use_cudnn_on_gpu, explicit_paddings, data_format, dilations, name)\u001B[0m\n\u001B[1;32m    937\u001B[0m           \u001B[0minput\u001B[0m\u001B[0;34m,\u001B[0m \u001B[0mfilter\u001B[0m\u001B[0;34m,\u001B[0m \u001B[0mstrides\u001B[0m\u001B[0;34m=\u001B[0m\u001B[0mstrides\u001B[0m\u001B[0;34m,\u001B[0m \u001B[0muse_cudnn_on_gpu\u001B[0m\u001B[0;34m=\u001B[0m\u001B[0muse_cudnn_on_gpu\u001B[0m\u001B[0;34m,\u001B[0m\u001B[0;34m\u001B[0m\u001B[0;34m\u001B[0m\u001B[0m\n\u001B[1;32m    938\u001B[0m           \u001B[0mpadding\u001B[0m\u001B[0;34m=\u001B[0m\u001B[0mpadding\u001B[0m\u001B[0;34m,\u001B[0m \u001B[0mexplicit_paddings\u001B[0m\u001B[0;34m=\u001B[0m\u001B[0mexplicit_paddings\u001B[0m\u001B[0;34m,\u001B[0m\u001B[0;34m\u001B[0m\u001B[0;34m\u001B[0m\u001B[0m\n\u001B[0;32m--> 939\u001B[0;31m           data_format=data_format, dilations=dilations, name=name, ctx=_ctx)\n\u001B[0m\u001B[1;32m    940\u001B[0m     \u001B[0;32mexcept\u001B[0m \u001B[0m_core\u001B[0m\u001B[0;34m.\u001B[0m\u001B[0m_SymbolicException\u001B[0m\u001B[0;34m:\u001B[0m\u001B[0;34m\u001B[0m\u001B[0;34m\u001B[0m\u001B[0m\n\u001B[1;32m    941\u001B[0m       \u001B[0;32mpass\u001B[0m  \u001B[0;31m# Add nodes to the TensorFlow graph.\u001B[0m\u001B[0;34m\u001B[0m\u001B[0;34m\u001B[0m\u001B[0m\n",
      "\u001B[0;32m/usr/local/lib/python3.7/dist-packages/tensorflow/python/ops/gen_nn_ops.py\u001B[0m in \u001B[0;36mconv2d_eager_fallback\u001B[0;34m(input, filter, strides, padding, use_cudnn_on_gpu, explicit_paddings, data_format, dilations, name, ctx)\u001B[0m\n\u001B[1;32m   1024\u001B[0m   explicit_paddings, \"data_format\", data_format, \"dilations\", dilations)\n\u001B[1;32m   1025\u001B[0m   _result = _execute.execute(b\"Conv2D\", 1, inputs=_inputs_flat, attrs=_attrs,\n\u001B[0;32m-> 1026\u001B[0;31m                              ctx=ctx, name=name)\n\u001B[0m\u001B[1;32m   1027\u001B[0m   \u001B[0;32mif\u001B[0m \u001B[0m_execute\u001B[0m\u001B[0;34m.\u001B[0m\u001B[0mmust_record_gradient\u001B[0m\u001B[0;34m(\u001B[0m\u001B[0;34m)\u001B[0m\u001B[0;34m:\u001B[0m\u001B[0;34m\u001B[0m\u001B[0;34m\u001B[0m\u001B[0m\n\u001B[1;32m   1028\u001B[0m     _execute.record_gradient(\n",
      "\u001B[0;32m/usr/local/lib/python3.7/dist-packages/tensorflow/python/eager/execute.py\u001B[0m in \u001B[0;36mquick_execute\u001B[0;34m(op_name, num_outputs, inputs, attrs, ctx, name)\u001B[0m\n\u001B[1;32m     53\u001B[0m     \u001B[0mctx\u001B[0m\u001B[0;34m.\u001B[0m\u001B[0mensure_initialized\u001B[0m\u001B[0;34m(\u001B[0m\u001B[0;34m)\u001B[0m\u001B[0;34m\u001B[0m\u001B[0;34m\u001B[0m\u001B[0m\n\u001B[1;32m     54\u001B[0m     tensors = pywrap_tfe.TFE_Py_Execute(ctx._handle, device_name, op_name,\n\u001B[0;32m---> 55\u001B[0;31m                                         inputs, attrs, num_outputs)\n\u001B[0m\u001B[1;32m     56\u001B[0m   \u001B[0;32mexcept\u001B[0m \u001B[0mcore\u001B[0m\u001B[0;34m.\u001B[0m\u001B[0m_NotOkStatusException\u001B[0m \u001B[0;32mas\u001B[0m \u001B[0me\u001B[0m\u001B[0;34m:\u001B[0m\u001B[0;34m\u001B[0m\u001B[0;34m\u001B[0m\u001B[0m\n\u001B[1;32m     57\u001B[0m     \u001B[0;32mif\u001B[0m \u001B[0mname\u001B[0m \u001B[0;32mis\u001B[0m \u001B[0;32mnot\u001B[0m \u001B[0;32mNone\u001B[0m\u001B[0;34m:\u001B[0m\u001B[0;34m\u001B[0m\u001B[0;34m\u001B[0m\u001B[0m\n",
      "\u001B[0;31mKeyboardInterrupt\u001B[0m: "
     ]
    }
   ]
  }
 ]
}